{
 "cells": [
  {
   "cell_type": "markdown",
   "metadata": {
    "id": "RkAdqV7WaqrJ"
   },
   "source": [
    "# 🐍 Python ate my Homework! 📝\n",
    "## Evan Kohilas\n",
    "### `@ekohilas` - `nohumanerrors.com`\n",
    "![python-on-homework](images/blue_yellow_python_mouth_open_above_homework.jpeg)"
   ]
  },
  {
   "cell_type": "markdown",
   "metadata": {
    "id": "lW2ymfOibNTG"
   },
   "source": [
    "## Maths Assignments"
   ]
  },
  {
   "cell_type": "markdown",
   "metadata": {
    "id": "lW2ymfOibNTG"
   },
   "source": [
    "### Traditionally handwritten\n",
    "![example assignment solution written by hand](images/assignment_handwritten.jpg)\n",
    "\n",
    "### Or now, digitally written\n",
    "![example assignment solution written by stylus](images/assignment_stylus.png)\n",
    "\n",
    "### Or re-written with Latex\n",
    "![example assignment solution written in latex](images/assignment_latex.png)\n",
    "\n",
    "### But these could all be:\n",
    "* Messy and illegible\n",
    "* Tedious and time consuming\n",
    "* Error prone and unvalidated\n",
    "* Static and unchangeable\n",
    "\n",
    "### Can we do better?"
   ]
  },
  {
   "cell_type": "markdown",
   "metadata": {
    "id": "iMeG8QH-goXC"
   },
   "source": [
    "## Question 1: Discrete Maths"
   ]
  },
  {
   "cell_type": "markdown",
   "metadata": {
    "id": "cuo1q6f_td8O"
   },
   "source": [
    "Show whether the following numbers can be represented as a sum of two squares ($n = a^2 + b^2$):"
   ]
  },
  {
   "cell_type": "code",
   "execution_count": 1,
   "metadata": {},
   "outputs": [],
   "source": [
    "q1_numbers = (\n",
    "    85,\n",
    "    #49,\n",
    "    #343,\n",
    ")"
   ]
  },
  {
   "cell_type": "markdown",
   "metadata": {},
   "source": [
    "e.g.\n",
    "\n",
    "$250 = 81 + 169$\n",
    "\n",
    "$250 = 9^2 + 13^2$"
   ]
  },
  {
   "cell_type": "markdown",
   "metadata": {
    "id": "bxfqL5FS7YQl"
   },
   "source": [
    "**Theorem Reminder:**\n",
    "\n",
    "*A positive integer $n$ can be written as a sum of two squares, if and only if there is **no** prime $p$ that;*\n",
    "- *divides $n$ an odd number of times,*\n",
    "- *and for which  $p \\ \\% \\ 4 = 3$.*"
   ]
  },
  {
   "cell_type": "markdown",
   "metadata": {
    "id": "91JjZsS5-8GN"
   },
   "source": [
    "All the primes that *divide* $n$ are also known as *factors* of $n$."
   ]
  },
  {
   "cell_type": "markdown",
   "metadata": {},
   "source": [
    "e.g. if $n = 250$, then the factors of $250$ are:\n",
    "\n",
    "$\n",
    "\\begin{align}\n",
    "250 &= 2 \\cdot 125 \\\\\n",
    "    &= 2 \\cdot 5 \\cdot 25 \\\\\n",
    "    &= 2 \\cdot 5 \\cdot 5 \\cdot 5 \\\\\n",
    "    &= 2^1 \\cdot 5^3 \\\\\n",
    "\\end{align}\n",
    "$"
   ]
  },
  {
   "cell_type": "markdown",
   "metadata": {},
   "source": [
    "Thus we want to check if there is any $p^k$ such that $p\\ \\%\\ 4 = 3$ and $k\\ \\%\\ 2 = 1$."
   ]
  },
  {
   "cell_type": "code",
   "execution_count": 2,
   "metadata": {},
   "outputs": [],
   "source": [
    "def sum_of_two_squares(n: int) -> bool:\n",
    "    for p, k in factors(n):\n",
    "        if k % 2 == 1 and p % 4 == 3:\n",
    "            return False\n",
    "    return True"
   ]
  },
  {
   "cell_type": "markdown",
   "metadata": {},
   "source": [
    "But how do we calculate the factors?\n",
    "\n",
    "We'll import a method from SymPy (a Python library for symbolic mathematics)"
   ]
  },
  {
   "cell_type": "code",
   "execution_count": 3,
   "metadata": {
    "id": "FAyfNmPX773I"
   },
   "outputs": [
    {
     "data": {
      "text/plain": [
       "{2: 1, 5: 3}"
      ]
     },
     "execution_count": 3,
     "metadata": {},
     "output_type": "execute_result"
    }
   ],
   "source": [
    "from sympy import factorint\n",
    "factorint(250)"
   ]
  },
  {
   "cell_type": "code",
   "execution_count": 4,
   "metadata": {
    "id": "JLgbZtyG-i8i"
   },
   "outputs": [
    {
     "name": "stdout",
     "output_type": "stream",
     "text": [
      "Q1.1: 85 True \n",
      "\n"
     ]
    }
   ],
   "source": [
    "def sum_of_two_squares(n: int) -> bool:\n",
    "    factors = factorint(n)\n",
    "    for prime, power in sorted(factors.items()):\n",
    "        is_odd_power = power % 2 == 1\n",
    "        is_3_mod_4 = prime % 4 == 3\n",
    "        if is_odd_power and is_3_mod_4:\n",
    "            return False\n",
    "    return True\n",
    "\n",
    "for sub_question, number in enumerate(q1_numbers, start=1):\n",
    "    print(f\"Q1.{sub_question}:\", number, sum_of_two_squares(number), \"\\n\")"
   ]
  },
  {
   "cell_type": "code",
   "execution_count": 5,
   "metadata": {
    "id": "lpza11OhCcER"
   },
   "outputs": [
    {
     "name": "stdout",
     "output_type": "stream",
     "text": [
      "Factors of 85 are: {5: 1, 17: 1}\n",
      "Checking 5^1:\n",
      "Prime 5 % 4 = 1 ≠ 3\n",
      "Power 1 is odd\n",
      "Checking 17^1:\n",
      "Prime 17 % 4 = 1 ≠ 3\n",
      "Power 1 is odd\n",
      "Therefore 85 can be written as a sum of two squares, since there is no prime p^k where k is odd and p % 4 = 3.\n",
      "Q1.1: True \n",
      "\n"
     ]
    }
   ],
   "source": [
    "def sum_of_two_squares(n: int) -> bool:\n",
    "    factors = factorint(n)\n",
    "    print(f\"Factors of {n} are: {factors}\")\n",
    "    factors = factorint(n)\n",
    "    for prime, power in sorted(factors.items()):\n",
    "        is_odd_power = power % 2 == 1\n",
    "        is_3_mod_4 = prime % 4 == 3\n",
    "        print(\n",
    "            f\"Checking {prime}^{power}:\\n\"\n",
    "            f\"Prime {prime} % 4 = {prime % 4} \"\n",
    "            f\"{'=' if is_3_mod_4 else '≠'} 3\\n\"\n",
    "            f\"Power {power} is {'odd' if is_odd_power else 'even'}\"\n",
    "        )\n",
    "        if is_odd_power and is_3_mod_4:\n",
    "            print(\n",
    "                f\"Therefore {n} cannot be written as a sum of two squares, \"\n",
    "                \"since there is a prime p^k where k is odd and p % 4 = 3.\"\n",
    "            )\n",
    "            return False\n",
    "    print(\n",
    "        f\"Therefore {n} can be written as a sum of two squares, \"\n",
    "        \"since there is no prime p^k where k is odd and p % 4 = 3.\"\n",
    "    )\n",
    "    return True\n",
    "\n",
    "for sub_question, number in enumerate(q1_numbers, start=1):\n",
    "    print(f\"Q1.{sub_question}:\", sum_of_two_squares(number), \"\\n\")"
   ]
  },
  {
   "cell_type": "code",
   "execution_count": 6,
   "metadata": {
    "id": "HaseuvPA72ZO"
   },
   "outputs": [
    {
     "data": {
      "text/latex": [
       "$\\displaystyle 2^{1} \\cdot 5^{3}$"
      ],
      "text/plain": [
       "2**1*5**3"
      ]
     },
     "execution_count": 6,
     "metadata": {},
     "output_type": "execute_result"
    }
   ],
   "source": [
    "factorint(250, visual=True)"
   ]
  },
  {
   "cell_type": "code",
   "execution_count": 7,
   "metadata": {
    "id": "gcO3-rIxHTLi"
   },
   "outputs": [],
   "source": [
    "from sympy import Eq"
   ]
  },
  {
   "cell_type": "code",
   "execution_count": 8,
   "metadata": {
    "id": "1LqBX9jKHM_r"
   },
   "outputs": [
    {
     "data": {
      "text/latex": [
       "$\\displaystyle \\text{True}$"
      ],
      "text/plain": [
       "True"
      ]
     },
     "execution_count": 8,
     "metadata": {},
     "output_type": "execute_result"
    }
   ],
   "source": [
    "Eq(\n",
    "    250,\n",
    "    factorint(250, visual=True),\n",
    ")"
   ]
  },
  {
   "cell_type": "code",
   "execution_count": 9,
   "metadata": {
    "id": "vTwUBPmNHxQ6"
   },
   "outputs": [
    {
     "data": {
      "text/latex": [
       "$\\displaystyle 250 = 2^{1} \\cdot 5^{3}$"
      ],
      "text/plain": [
       "Eq(250, 2**1*5**3)"
      ]
     },
     "execution_count": 9,
     "metadata": {},
     "output_type": "execute_result"
    }
   ],
   "source": [
    "Eq(\n",
    "    250,\n",
    "    factorint(250, visual=True),\n",
    "    evaluate=False,\n",
    ")"
   ]
  },
  {
   "cell_type": "code",
   "execution_count": 10,
   "metadata": {
    "id": "BRB1IZhnH-lb"
   },
   "outputs": [
    {
     "data": {
      "text/latex": [
       "$\\displaystyle 85 = 17^{1} \\cdot 5^{1}$"
      ],
      "text/plain": [
       "Eq(85, 5**1*17**1)"
      ]
     },
     "metadata": {},
     "output_type": "display_data"
    },
    {
     "data": {
      "text/markdown": [
       "Checking $5^1$:  \n",
       "Prime $5\\ \\%\\ 4 = 1 ≠ 3$  \n",
       "Power $1$ is odd"
      ],
      "text/plain": [
       "<IPython.core.display.Markdown object>"
      ]
     },
     "metadata": {},
     "output_type": "display_data"
    },
    {
     "data": {
      "text/markdown": [
       "Checking $17^1$:  \n",
       "Prime $17\\ \\%\\ 4 = 1 ≠ 3$  \n",
       "Power $1$ is odd"
      ],
      "text/plain": [
       "<IPython.core.display.Markdown object>"
      ]
     },
     "metadata": {},
     "output_type": "display_data"
    },
    {
     "data": {
      "text/markdown": [
       "Therefore $85$ can be written as a sum of two squares, since there is no prime $p^k$ where $k$ is odd and $p\\ \\%\\ 4 = 3$."
      ],
      "text/plain": [
       "<IPython.core.display.Markdown object>"
      ]
     },
     "metadata": {},
     "output_type": "display_data"
    },
    {
     "name": "stdout",
     "output_type": "stream",
     "text": [
      "Q1.1: True \n",
      "\n"
     ]
    }
   ],
   "source": [
    "from IPython.display import Markdown\n",
    "def sum_of_two_squares(n: int) -> bool:\n",
    "    display(\n",
    "        Eq(\n",
    "            n,\n",
    "            factorint(n, visual=True),\n",
    "            evaluate=False,\n",
    "        )\n",
    "    )\n",
    "    factors = factorint(n)\n",
    "    for prime, power in sorted(factors.items()):\n",
    "        is_odd_power = power % 2 == 1\n",
    "        is_3_mod_4 = prime % 4 == 3\n",
    "        display(Markdown(\n",
    "            f\"Checking ${prime}^{power}$:  \\n\"\n",
    "            f\"Prime ${prime}\\\\ \\\\%\\\\ 4 = {prime % 4} \"\n",
    "            f\"{'=' if is_3_mod_4 else '≠'} 3$  \\n\"\n",
    "            f\"Power ${power}$ is {'odd' if is_odd_power else 'even'}\"\n",
    "        ))\n",
    "        if is_odd_power and is_3_mod_4:\n",
    "            display(Markdown(\n",
    "                f\"Therefore ${n}$ cannot be written as \"\n",
    "                \"a sum of two squares, since there is \"\n",
    "                \"a prime $p^k$ where $k$ is odd and $p\\\\ \\\\%\\\\ 4 = 3$.\"\n",
    "            ))\n",
    "            return False\n",
    "    display(Markdown(\n",
    "        f\"Therefore ${n}$ can be written as \"\n",
    "        \"a sum of two squares, since there is \"\n",
    "        \"no prime $p^k$ where $k$ is odd and $p\\\\ \\\\%\\\\ 4 = 3$.\"\n",
    "    ))\n",
    "    return True\n",
    "\n",
    "for sub_question, number in enumerate(q1_numbers, start=1):\n",
    "    print(f\"Q1.{sub_question}:\", sum_of_two_squares(number), \"\\n\")"
   ]
  },
  {
   "cell_type": "code",
   "execution_count": 11,
   "metadata": {
    "id": "MLNhV0RJRvMz"
   },
   "outputs": [
    {
     "data": {
      "text/latex": [
       "$\\displaystyle 85 = 17^{1} \\cdot 5^{1}$"
      ],
      "text/plain": [
       "Eq(85, 5**1*17**1)"
      ]
     },
     "metadata": {},
     "output_type": "display_data"
    },
    {
     "data": {
      "text/markdown": [
       "Checking $5^1$:  \n",
       "Prime $5\\ \\%\\ 4 = 1 ≠ 3$  \n",
       "Power $1$ is odd"
      ],
      "text/plain": [
       "<IPython.core.display.Markdown object>"
      ]
     },
     "metadata": {},
     "output_type": "display_data"
    },
    {
     "data": {
      "text/markdown": [
       "Checking $17^1$:  \n",
       "Prime $17\\ \\%\\ 4 = 1 ≠ 3$  \n",
       "Power $1$ is odd"
      ],
      "text/plain": [
       "<IPython.core.display.Markdown object>"
      ]
     },
     "metadata": {},
     "output_type": "display_data"
    },
    {
     "data": {
      "text/markdown": [
       "Therefore $85$ can be written as a sum of two squares, since there is no prime $p^k$ where $k$ is odd and $p\\ \\%\\ 4 = 3$.\n",
       "\n",
       " e.g. $85 = 6 ^ 2 + 7 ^ 2$"
      ],
      "text/plain": [
       "<IPython.core.display.Markdown object>"
      ]
     },
     "metadata": {},
     "output_type": "display_data"
    },
    {
     "name": "stdout",
     "output_type": "stream",
     "text": [
      "Q1.1: True \n",
      "\n"
     ]
    }
   ],
   "source": [
    "from sympy.solvers.diophantine.diophantine import sum_of_squares\n",
    "def sum_of_two_squares(n: int) -> bool:\n",
    "    display(\n",
    "        Eq(\n",
    "            n,\n",
    "            factorint(n, visual=True),\n",
    "            evaluate=False,\n",
    "        )\n",
    "    )\n",
    "    factors = factorint(n)\n",
    "    for prime, power in sorted(factors.items()):\n",
    "        is_odd_power = power % 2 == 1\n",
    "        is_3_mod_4 = prime % 4 == 3\n",
    "        display(Markdown(\n",
    "            f\"Checking ${prime}^{power}$:  \\n\"\n",
    "            f\"Prime ${prime}\\\\ \\\\%\\\\ 4 = {prime % 4} \"\n",
    "            f\"{'=' if is_3_mod_4 else '≠'} 3$  \\n\"\n",
    "            f\"Power ${power}$ is {'odd' if is_odd_power else 'even'}\"\n",
    "        ))\n",
    "        if is_odd_power and is_3_mod_4:\n",
    "            display(Markdown(\n",
    "                f\"Therefore ${n}$ cannot be written as \"\n",
    "                \"a sum of two squares, since there is \"\n",
    "                \"a prime $p^k$ where $k$ is odd and $p\\\\ \\\\%\\\\ 4 = 3$.\"\n",
    "            ))\n",
    "            return False\n",
    "    square1, square2 = next(sum_of_squares(n=n, k=2, zeros=True))\n",
    "    display(Markdown(\n",
    "        f\"Therefore ${n}$ can be written as \"\n",
    "        \"a sum of two squares, since there is \"\n",
    "        \"no prime $p^k$ where $k$ is odd and $p\\\\ \\\\%\\\\ 4 = 3$.\"\n",
    "        f\"\\n\\n e.g. ${n} = {square1} ^ 2 + {square2} ^ 2$\"\n",
    "    ))\n",
    "    return True\n",
    "\n",
    "for sub_question, number in enumerate(q1_numbers, start=1):\n",
    "    print(f\"Q1.{sub_question}:\", sum_of_two_squares(number), \"\\n\")"
   ]
  },
  {
   "cell_type": "markdown",
   "metadata": {
    "id": "QqUoAQmLf7vI"
   },
   "source": [
    "## Question 2: Calculus"
   ]
  },
  {
   "cell_type": "markdown",
   "metadata": {
    "id": "pohaz5Lo5yph"
   },
   "source": [
    "For the following curve $y = -x^2 + 2x + 3$\n",
    "\n",
    "1. Calculate the $x$ intersection points.\n",
    "2. Calculate the $y$ intersection point.\n",
    "3. Calculate the curve's vertex.\n",
    "4. Plot the curve."
   ]
  },
  {
   "cell_type": "markdown",
   "metadata": {
    "id": "33xeTEpboRtd"
   },
   "source": [
    "[What can Wolfram Alpha do?](https://www.wolframalpha.com/input?i=y+%3D+-x%5E2+%2B+2x+%2B+3)\n",
    "![wolfram alpha 2d curve](images/wolfram_alpha_2d_curve.png)"
   ]
  },
  {
   "cell_type": "code",
   "execution_count": 12,
   "metadata": {
    "id": "yz13PPOOTNZf"
   },
   "outputs": [],
   "source": [
    "from sympy.abc import x"
   ]
  },
  {
   "cell_type": "code",
   "execution_count": 13,
   "metadata": {
    "id": "2zRONtn5AyCr"
   },
   "outputs": [
    {
     "data": {
      "text/latex": [
       "$\\displaystyle - x^{2} + 2 x + 3$"
      ],
      "text/plain": [
       "-x**2 + 2*x + 3"
      ]
     },
     "execution_count": 13,
     "metadata": {},
     "output_type": "execute_result"
    }
   ],
   "source": [
    "y_equation = - x ** 2 + 2 * x + 3\n",
    "y_equation"
   ]
  },
  {
   "cell_type": "code",
   "execution_count": 14,
   "metadata": {
    "id": "sSoqnyyMTZRv"
   },
   "outputs": [],
   "source": [
    "from sympy import Function\n",
    "y = Function(\"y\")"
   ]
  },
  {
   "cell_type": "code",
   "execution_count": 15,
   "metadata": {
    "id": "D64A8dsCTwv9"
   },
   "outputs": [
    {
     "data": {
      "text/latex": [
       "$\\displaystyle y{\\left(x \\right)} = - x^{2} + 2 x + 3$"
      ],
      "text/plain": [
       "Eq(y(x), -x**2 + 2*x + 3)"
      ]
     },
     "execution_count": 15,
     "metadata": {},
     "output_type": "execute_result"
    }
   ],
   "source": [
    "Eq(\n",
    "    y(x),\n",
    "    y_equation,\n",
    ")"
   ]
  },
  {
   "cell_type": "markdown",
   "metadata": {},
   "source": [
    "### Question 2.1\n",
    "Calculate the $x$ intersection points of $y = -x^2 + 2x + 3$"
   ]
  },
  {
   "cell_type": "markdown",
   "metadata": {
    "id": "Zet3yV1SUwyj"
   },
   "source": [
    "**Reminder:**\n",
    "\n",
    "*The $x$ intersection point is $(0, y(0))$ (where $x = 0$)*"
   ]
  },
  {
   "cell_type": "markdown",
   "metadata": {
    "id": "8fx14u2sHv4f"
   },
   "source": [
    "Thus for Q2.1, we need to substitute for $x=0$"
   ]
  },
  {
   "cell_type": "code",
   "execution_count": 16,
   "metadata": {},
   "outputs": [
    {
     "data": {
      "text/latex": [
       "$\\displaystyle 3$"
      ],
      "text/plain": [
       "3"
      ]
     },
     "execution_count": 16,
     "metadata": {},
     "output_type": "execute_result"
    }
   ],
   "source": [
    "y_equation.subs(x, 0)"
   ]
  },
  {
   "cell_type": "code",
   "execution_count": 17,
   "metadata": {
    "id": "I3n7S1x9T-p3"
   },
   "outputs": [
    {
     "data": {
      "text/latex": [
       "$\\displaystyle y{\\left(x \\right)} = - x^{2} + 2 x + 3$"
      ],
      "text/plain": [
       "Eq(y(x), -x**2 + 2*x + 3)"
      ]
     },
     "metadata": {},
     "output_type": "display_data"
    },
    {
     "data": {
      "text/latex": [
       "$\\displaystyle y{\\left(0 \\right)} = 3$"
      ],
      "text/plain": [
       "Eq(y(0), 3)"
      ]
     },
     "metadata": {},
     "output_type": "display_data"
    }
   ],
   "source": [
    "display(\n",
    "    Eq(\n",
    "        y(x),\n",
    "        y_equation,\n",
    "    ),\n",
    "    Eq(\n",
    "        y(0),\n",
    "        y_equation.subs(x, 0),\n",
    "    ),\n",
    ")"
   ]
  },
  {
   "cell_type": "code",
   "execution_count": 18,
   "metadata": {
    "id": "MnEt9Tb3UXjH"
   },
   "outputs": [],
   "source": [
    "from sympy import UnevaluatedExpr"
   ]
  },
  {
   "cell_type": "code",
   "execution_count": 19,
   "metadata": {
    "id": "Pf5c0xJWBJYP"
   },
   "outputs": [
    {
     "data": {
      "text/latex": [
       "$\\displaystyle y{\\left(x \\right)} = - x^{2} + 2 x + 3$"
      ],
      "text/plain": [
       "Eq(y(x), -x**2 + 2*x + 3)"
      ]
     },
     "metadata": {},
     "output_type": "display_data"
    },
    {
     "data": {
      "text/latex": [
       "$\\displaystyle y{\\left(0 \\right)} = 3 + 2 \\cdot 0 - 0^{2}$"
      ],
      "text/plain": [
       "Eq(y(0), 3 + 2*0 - 0**2)"
      ]
     },
     "metadata": {},
     "output_type": "display_data"
    },
    {
     "data": {
      "text/latex": [
       "$\\displaystyle y{\\left(0 \\right)} = 3$"
      ],
      "text/plain": [
       "Eq(y(0), 3)"
      ]
     },
     "metadata": {},
     "output_type": "display_data"
    }
   ],
   "source": [
    "display(\n",
    "    Eq(\n",
    "        y(x),\n",
    "        y_equation,\n",
    "    ),\n",
    "    Eq(\n",
    "        y(0),\n",
    "        y_equation.subs(x, UnevaluatedExpr(0))\n",
    "    ),\n",
    "    Eq(\n",
    "        y(0),\n",
    "        y_equation.subs(x, 0)\n",
    "    ),\n",
    ")"
   ]
  },
  {
   "cell_type": "markdown",
   "metadata": {},
   "source": [
    "### Question 2.2\n",
    "Calculate the $y$ intersection point of $y = -x^2 + 2x + 3$"
   ]
  },
  {
   "cell_type": "markdown",
   "metadata": {
    "id": "upVxXWQuVN_e"
   },
   "source": [
    "**Reminder:** *The $y$ intersection points are where $(x(0), 0)$ (where $y = 0$)*"
   ]
  },
  {
   "cell_type": "markdown",
   "metadata": {
    "id": "MCmHzB7oJIWf"
   },
   "source": [
    "Thus we need to re-arrange for $x$, and solve for $y=0$.\n",
    "\n",
    "We can do this using the quadratic formula:"
   ]
  },
  {
   "cell_type": "code",
   "execution_count": 20,
   "metadata": {
    "id": "WptCH3xKVe-s"
   },
   "outputs": [],
   "source": [
    "from sympy import sympify"
   ]
  },
  {
   "cell_type": "code",
   "execution_count": 21,
   "metadata": {
    "id": "cojcrX2Cn-D3"
   },
   "outputs": [
    {
     "data": {
      "text/latex": [
       "$\\displaystyle y{\\left(x \\right)} = a x^{2} + b x + c$"
      ],
      "text/plain": [
       "Eq(y(x), a*x**2 + b*x + c)"
      ]
     },
     "execution_count": 21,
     "metadata": {},
     "output_type": "execute_result"
    }
   ],
   "source": [
    "quadratic = \"a * x ** 2 + b * x + c\"\n",
    "Eq(\n",
    "    y(x),\n",
    "    sympify(quadratic)\n",
    ")"
   ]
  },
  {
   "cell_type": "code",
   "execution_count": 22,
   "metadata": {
    "id": "fRtu07P7oavJ"
   },
   "outputs": [],
   "source": [
    "from sympy import solve"
   ]
  },
  {
   "cell_type": "code",
   "execution_count": 23,
   "metadata": {
    "id": "a8q_AlXeJIWp"
   },
   "outputs": [
    {
     "data": {
      "text/latex": [
       "$\\displaystyle \\frac{- b - \\sqrt{- 4 a c + b^{2}}}{2 a}$"
      ],
      "text/plain": [
       "(-b - sqrt(-4*a*c + b**2))/(2*a)"
      ]
     },
     "metadata": {},
     "output_type": "display_data"
    },
    {
     "data": {
      "text/latex": [
       "$\\displaystyle \\frac{- b + \\sqrt{- 4 a c + b^{2}}}{2 a}$"
      ],
      "text/plain": [
       "(-b + sqrt(-4*a*c + b**2))/(2*a)"
      ]
     },
     "metadata": {},
     "output_type": "display_data"
    }
   ],
   "source": [
    "quadratic_solutions = solve(quadratic, \"x\")\n",
    "display(*quadratic_solutions)"
   ]
  },
  {
   "cell_type": "markdown",
   "metadata": {
    "id": "GqDQkFUMohdL"
   },
   "source": [
    "Substituting for the respective constants:"
   ]
  },
  {
   "cell_type": "code",
   "execution_count": 24,
   "metadata": {},
   "outputs": [
    {
     "data": {
      "text/latex": [
       "$\\displaystyle y{\\left(x \\right)} = a x^{2} + b x + c$"
      ],
      "text/plain": [
       "Eq(y(x), a*x**2 + b*x + c)"
      ]
     },
     "metadata": {},
     "output_type": "display_data"
    },
    {
     "data": {
      "text/latex": [
       "$\\displaystyle y{\\left(x \\right)} = - x^{2} + 2 x + 3$"
      ],
      "text/plain": [
       "Eq(y(x), -x**2 + 2*x + 3)"
      ]
     },
     "metadata": {},
     "output_type": "display_data"
    }
   ],
   "source": [
    "display(\n",
    "    Eq(\n",
    "        y(x),\n",
    "        sympify(quadratic),\n",
    "    ),\n",
    "    Eq(\n",
    "        y(x),\n",
    "        y_equation,\n",
    "    ),\n",
    ")"
   ]
  },
  {
   "cell_type": "code",
   "execution_count": 25,
   "metadata": {
    "editable": true,
    "id": "gkRv27iVLdUY",
    "slideshow": {
     "slide_type": ""
    },
    "tags": []
   },
   "outputs": [
    {
     "data": {
      "text/latex": [
       "$\\displaystyle x = \\frac{\\left(-1\\right)^{-1} \\left(- \\sqrt{2^{2} - 4 \\cdot 3 \\left(-1\\right)} - 2\\right)}{2}$"
      ],
      "text/plain": [
       "Eq(x, (-1)**(-1)*(-sqrt(2**2 - 4*3*(-1)) - 2)/2)"
      ]
     },
     "metadata": {},
     "output_type": "display_data"
    },
    {
     "data": {
      "text/latex": [
       "$\\displaystyle x = 3$"
      ],
      "text/plain": [
       "Eq(x, 3)"
      ]
     },
     "metadata": {},
     "output_type": "display_data"
    },
    {
     "data": {
      "text/latex": [
       "$\\displaystyle y{\\left(3 \\right)} = 0$"
      ],
      "text/plain": [
       "Eq(y(3), 0)"
      ]
     },
     "metadata": {},
     "output_type": "display_data"
    },
    {
     "data": {
      "text/latex": [
       "$\\displaystyle x = \\frac{\\left(-1\\right)^{-1} \\left(\\sqrt{2^{2} - 4 \\cdot 3 \\left(-1\\right)} - 2\\right)}{2}$"
      ],
      "text/plain": [
       "Eq(x, (-1)**(-1)*(sqrt(2**2 - 4*3*(-1)) - 2)/2)"
      ]
     },
     "metadata": {},
     "output_type": "display_data"
    },
    {
     "data": {
      "text/latex": [
       "$\\displaystyle x = -1$"
      ],
      "text/plain": [
       "Eq(x, -1)"
      ]
     },
     "metadata": {},
     "output_type": "display_data"
    },
    {
     "data": {
      "text/latex": [
       "$\\displaystyle y{\\left(-1 \\right)} = 0$"
      ],
      "text/plain": [
       "Eq(y(-1), 0)"
      ]
     },
     "metadata": {},
     "output_type": "display_data"
    }
   ],
   "source": [
    "constants = {\n",
    "    \"a\": UnevaluatedExpr(-1),\n",
    "    \"b\": UnevaluatedExpr(2),\n",
    "    \"c\": UnevaluatedExpr(3),\n",
    "}\n",
    "\n",
    "for solution in quadratic_solutions:\n",
    "    x_solution = solution.subs(constants)\n",
    "    display(\n",
    "        Eq(\n",
    "            x,\n",
    "            x_solution,\n",
    "        )\n",
    "    )\n",
    "\n",
    "    x_value = x_solution.doit()\n",
    "    display(\n",
    "        Eq(\n",
    "            x,\n",
    "            x_value,\n",
    "        ),\n",
    "        Eq(\n",
    "            y(x_value),\n",
    "            0,\n",
    "        ),\n",
    "    )"
   ]
  },
  {
   "cell_type": "markdown",
   "metadata": {
    "editable": true,
    "id": "BIgBwrw-pUlH",
    "slideshow": {
     "slide_type": ""
    },
    "tags": []
   },
   "source": [
    "Of course, SymPy also has methods to fast forward this too."
   ]
  },
  {
   "cell_type": "code",
   "execution_count": 26,
   "metadata": {
    "id": "hRxnXCjaVtLx"
   },
   "outputs": [
    {
     "data": {
      "text/plain": [
       "[-1, 3]"
      ]
     },
     "execution_count": 26,
     "metadata": {},
     "output_type": "execute_result"
    }
   ],
   "source": [
    "solve(y_equation, x)"
   ]
  },
  {
   "cell_type": "markdown",
   "metadata": {},
   "source": [
    "### Question 2.3\n",
    "Calculate the vertex of $y = -x^2 + 2x + 3$"
   ]
  },
  {
   "cell_type": "markdown",
   "metadata": {
    "id": "upVxXWQuVN_e"
   },
   "source": [
    "**Reminder:** *A function $y(x)$ has a maximum point where $\\frac{d}{dx}y(x) = 0$ if $y(x)\\frac{d^2y}{dx^2} < 0$.*"
   ]
  },
  {
   "cell_type": "code",
   "execution_count": 27,
   "metadata": {},
   "outputs": [
    {
     "data": {
      "text/latex": [
       "$\\displaystyle \\frac{d}{d x} y{\\left(x \\right)} = 2 - 2 x$"
      ],
      "text/plain": [
       "Eq(Derivative(y(x), x), 2 - 2*x)"
      ]
     },
     "execution_count": 27,
     "metadata": {},
     "output_type": "execute_result"
    }
   ],
   "source": [
    "y_diff = y_equation.diff(x)\n",
    "Eq(\n",
    "    y(x).diff(x),\n",
    "    y_diff,\n",
    ")"
   ]
  },
  {
   "cell_type": "markdown",
   "metadata": {},
   "source": [
    "Solving for $y = 0$"
   ]
  },
  {
   "cell_type": "code",
   "execution_count": 28,
   "metadata": {},
   "outputs": [
    {
     "data": {
      "text/plain": [
       "[1]"
      ]
     },
     "execution_count": 28,
     "metadata": {},
     "output_type": "execute_result"
    }
   ],
   "source": [
    "solve(y_diff, x)"
   ]
  },
  {
   "cell_type": "markdown",
   "metadata": {},
   "source": [
    "Substituting $x = 1$ to $y(x)$"
   ]
  },
  {
   "cell_type": "code",
   "execution_count": 29,
   "metadata": {},
   "outputs": [
    {
     "data": {
      "text/latex": [
       "$\\displaystyle 4$"
      ],
      "text/plain": [
       "4"
      ]
     },
     "execution_count": 29,
     "metadata": {},
     "output_type": "execute_result"
    }
   ],
   "source": [
    "y_equation.subs(x, 1)"
   ]
  },
  {
   "cell_type": "markdown",
   "metadata": {},
   "source": [
    "Thus the maximum of point of $y(x)$ is at $(1, 4)$"
   ]
  },
  {
   "cell_type": "markdown",
   "metadata": {},
   "source": [
    "### Question 2.4\n",
    "Plot $y = -x^2 + 2x + 3$"
   ]
  },
  {
   "cell_type": "code",
   "execution_count": 30,
   "metadata": {
    "id": "yTJaW_sgq_GG"
   },
   "outputs": [],
   "source": [
    "from sympy import plot"
   ]
  },
  {
   "cell_type": "code",
   "execution_count": 31,
   "metadata": {
    "id": "yf9R3U465C_T"
   },
   "outputs": [
    {
     "data": {
      "image/png": "[encoded data removed]",
      "text/plain": [
       "<Figure size 640x480 with 1 Axes>"
      ]
     },
     "metadata": {},
     "output_type": "display_data"
    },
    {
     "data": {
      "text/plain": [
       "<sympy.plotting.plot.Plot at 0x7f07408ef530>"
      ]
     },
     "execution_count": 31,
     "metadata": {},
     "output_type": "execute_result"
    }
   ],
   "source": [
    "plot(\n",
    "    y_equation,\n",
    "    xlim=(-4, 4),\n",
    "    ylim=(-4, 4),\n",
    ")"
   ]
  },
  {
   "cell_type": "markdown",
   "metadata": {
    "id": "4WGixZuef_wP"
   },
   "source": [
    "## Question 3: Multi-variable Calculus"
   ]
  },
  {
   "cell_type": "markdown",
   "metadata": {
    "id": "NGDrb885Km2p"
   },
   "source": [
    "The following profit function $f(u_1, u_2)$ describes the profit that results from selling $u_1$ units of Product 1 and $u_2$ units of Product 2.\n",
    "\n",
    "$f{\\left(u_{1},u_{2} \\right)} = - \\Delta \\left(u_{1}^{2} + u_{2}^{2}\\right) - c_{0} - u_{1} u_{2} \\left(\\Delta_{12} + \\Delta_{21}\\right) + u_{1} \\left(- c_{1} + p_{1}\\right) + u_{2} \\left(- c_{2} + p_{2}\\right)$\n",
    "\n",
    "$p_1$ and $p_2$ represent, respectively, the market price (per unit) for each product.\n",
    "\n",
    "$c_1$ and $c_2$ represent, respectively, the cost (per unit) for each product.\n",
    "\n",
    "$c_0$ represents the fixed cost, regardless of any production or sales.\n",
    "\n",
    "$\\Delta$ represents the decrease in unit price of each product for any additional unit that is sold of that product.\n",
    "\n",
    "$\\Delta_{12}$ represents the decrease in price of Product 1 for each additional unit that is sold of Product 2 (and vice versa for $\\Delta_{21}$).\n",
    "\n",
    "**Assuming that a unique solution exists and is extremal, find the optimal profit for the following parameters:**\n",
    "\n",
    "$p_1 = \\$400$\n",
    "\n",
    "$p_2 = \\$600$\n",
    "\n",
    "$c_1 = \\$200$\n",
    "\n",
    "$c_2 = \\$300$\n",
    "\n",
    "$c_0 = \\$500,000$\n",
    "\n",
    "$\\Delta = \\$0.02$\n",
    "\n",
    "$\\Delta_{12} = \\$0.001$\n",
    "\n",
    "$\\Delta_{21} = \\$0.002$"
   ]
  },
  {
   "cell_type": "markdown",
   "metadata": {},
   "source": [
    "[What can Wolfram Alpha do if we help it out?](https://www.wolframalpha.com/input?i=maximum+of+-+0.02+*+%28u%5E2+%2B+v%5E2%29+-+500000+-+u+*+v+*+%280.001+%2B+0.002%29+%2B+u+*+%28-+200+%2B+400%29+%2B+v+*+%28-+300+%2B+600%29)\n",
    "\n",
    "![wolfram alpha solution](images/wolfram_alpha.png)\n"
   ]
  },
  {
   "cell_type": "code",
   "execution_count": 32,
   "metadata": {
    "id": "w-xFeY3SA0G8"
   },
   "outputs": [],
   "source": [
    "from sympy import symbols\n",
    "u1, u2 = symbols(\"u_1 u_2\")\n",
    "c0, c1, c2 = symbols(\"c:3\")\n",
    "p1, p2 = symbols(\"p_1 p_2\")\n",
    "D, D12, D21 = symbols(\"Delta Delta_12 Delta_21\")"
   ]
  },
  {
   "cell_type": "code",
   "execution_count": 33,
   "metadata": {
    "id": "8rgfAPxhCGwq"
   },
   "outputs": [],
   "source": [
    "equation = (\n",
    "    -c0\n",
    "    + u1 * (p1 - c1)\n",
    "    + u2 * (p2 - c2)\n",
    "    - u1 * u2 * (D12 + D21)\n",
    "    - D * (u1 ** 2 + u2 ** 2)\n",
    ")"
   ]
  },
  {
   "cell_type": "code",
   "execution_count": 34,
   "metadata": {},
   "outputs": [],
   "source": [
    "from sympy import Function\n",
    "f = Function(\"f\")"
   ]
  },
  {
   "cell_type": "code",
   "execution_count": 35,
   "metadata": {
    "id": "u50BevTp00q9"
   },
   "outputs": [
    {
     "data": {
      "text/latex": [
       "$\\displaystyle f{\\left(u_{1},u_{2} \\right)} = - \\Delta \\left(u_{1}^{2} + u_{2}^{2}\\right) - c_{0} - u_{1} u_{2} \\left(\\Delta_{12} + \\Delta_{21}\\right) + u_{1} \\left(- c_{1} + p_{1}\\right) + u_{2} \\left(- c_{2} + p_{2}\\right)$"
      ],
      "text/plain": [
       "Eq(f(u_1, u_2), -Delta*(u_1**2 + u_2**2) - c0 - u_1*u_2*(Delta_12 + Delta_21) + u_1*(-c1 + p_1) + u_2*(-c2 + p_2))"
      ]
     },
     "execution_count": 35,
     "metadata": {},
     "output_type": "execute_result"
    }
   ],
   "source": [
    "Eq(\n",
    "    f(u1, u2),\n",
    "    equation,\n",
    ")"
   ]
  },
  {
   "cell_type": "code",
   "execution_count": 36,
   "metadata": {
    "id": "U3Kgxz1GzVUc"
   },
   "outputs": [],
   "source": [
    "constants = {\n",
    "    p1: 400,\n",
    "    p2: 600,\n",
    "    c1: 200,\n",
    "    c2: 300,\n",
    "    c0: 500_000,\n",
    "    D: 0.02,\n",
    "    D12: 0.001,\n",
    "    D21: 0.002,\n",
    "}"
   ]
  },
  {
   "cell_type": "markdown",
   "metadata": {
    "id": "4OE3bZb1-TL7"
   },
   "source": [
    "**Reminder:**\n",
    "\n",
    "The maximum value of $f$ is where $\\nabla f = \\bf 0$\n",
    "\n",
    "Where $\\nabla f(x,y) = \\left[\\begin{matrix}\\frac{\\partial}{\\partial x} f(x,y)\\\\\\frac{\\partial}{\\partial y} f(x,y)\\end{matrix}\\right]$"
   ]
  },
  {
   "cell_type": "markdown",
   "metadata": {
    "id": "5S67io3yIZd2"
   },
   "source": [
    "Thus, to find the optimal profit, we must find the maximum, by finding the values $u^\\ast_1$, $u^\\ast_2$ for which $\\nabla f(u^\\ast_1, u^\\ast_2) = \\bf 0$."
   ]
  },
  {
   "cell_type": "code",
   "execution_count": 37,
   "metadata": {
    "id": "fbVEeku7I97b"
   },
   "outputs": [
    {
     "data": {
      "text/latex": [
       "$\\displaystyle \\left[\\begin{matrix}\\frac{\\partial}{\\partial u_{1}} f{\\left(u_{1},u_{2} \\right)}\\\\\\frac{\\partial}{\\partial u_{2}} f{\\left(u_{1},u_{2} \\right)}\\end{matrix}\\right] = \\left[\\begin{matrix}\\frac{\\partial}{\\partial u_{1}} \\left(- \\Delta \\left(u_{1}^{2} + u_{2}^{2}\\right) - c_{0} - u_{1} u_{2} \\left(\\Delta_{12} + \\Delta_{21}\\right) + u_{1} \\left(- c_{1} + p_{1}\\right) + u_{2} \\left(- c_{2} + p_{2}\\right)\\right)\\\\\\frac{\\partial}{\\partial u_{2}} \\left(- \\Delta \\left(u_{1}^{2} + u_{2}^{2}\\right) - c_{0} - u_{1} u_{2} \\left(\\Delta_{12} + \\Delta_{21}\\right) + u_{1} \\left(- c_{1} + p_{1}\\right) + u_{2} \\left(- c_{2} + p_{2}\\right)\\right)\\end{matrix}\\right]$"
      ],
      "text/plain": [
       "Eq(Matrix([\n",
       "[Derivative(f(u_1, u_2), u_1)],\n",
       "[Derivative(f(u_1, u_2), u_2)]]), Matrix([\n",
       "[Derivative(-Delta*(u_1**2 + u_2**2) - c0 - u_1*u_2*(Delta_12 + Delta_21) + u_1*(-c1 + p_1) + u_2*(-c2 + p_2), u_1)],\n",
       "[Derivative(-Delta*(u_1**2 + u_2**2) - c0 - u_1*u_2*(Delta_12 + Delta_21) + u_1*(-c1 + p_1) + u_2*(-c2 + p_2), u_2)]]))"
      ]
     },
     "metadata": {},
     "output_type": "display_data"
    },
    {
     "data": {
      "text/latex": [
       "$\\displaystyle \\left[\\begin{matrix}0\\\\0\\end{matrix}\\right] = \\left[\\begin{matrix}\\frac{\\partial}{\\partial u_{1}} \\left(- \\Delta \\left(u_{1}^{2} + u_{2}^{2}\\right) - c_{0} - u_{1} u_{2} \\left(\\Delta_{12} + \\Delta_{21}\\right) + u_{1} \\left(- c_{1} + p_{1}\\right) + u_{2} \\left(- c_{2} + p_{2}\\right)\\right)\\\\\\frac{\\partial}{\\partial u_{2}} \\left(- \\Delta \\left(u_{1}^{2} + u_{2}^{2}\\right) - c_{0} - u_{1} u_{2} \\left(\\Delta_{12} + \\Delta_{21}\\right) + u_{1} \\left(- c_{1} + p_{1}\\right) + u_{2} \\left(- c_{2} + p_{2}\\right)\\right)\\end{matrix}\\right]$"
      ],
      "text/plain": [
       "Eq(Matrix([\n",
       "[0],\n",
       "[0]]), Matrix([\n",
       "[Derivative(-Delta*(u_1**2 + u_2**2) - c0 - u_1*u_2*(Delta_12 + Delta_21) + u_1*(-c1 + p_1) + u_2*(-c2 + p_2), u_1)],\n",
       "[Derivative(-Delta*(u_1**2 + u_2**2) - c0 - u_1*u_2*(Delta_12 + Delta_21) + u_1*(-c1 + p_1) + u_2*(-c2 + p_2), u_2)]]))"
      ]
     },
     "metadata": {},
     "output_type": "display_data"
    },
    {
     "data": {
      "text/latex": [
       "$\\displaystyle \\left[\\begin{matrix}0\\\\0\\end{matrix}\\right] = \\left[\\begin{matrix}- 2 \\Delta u_{1} - c_{1} + p_{1} - u_{2} \\left(\\Delta_{12} + \\Delta_{21}\\right)\\\\- 2 \\Delta u_{2} - c_{2} + p_{2} - u_{1} \\left(\\Delta_{12} + \\Delta_{21}\\right)\\end{matrix}\\right]$"
      ],
      "text/plain": [
       "Eq(Matrix([\n",
       "[0],\n",
       "[0]]), Matrix([\n",
       "[-2*Delta*u_1 - c1 + p_1 - u_2*(Delta_12 + Delta_21)],\n",
       "[-2*Delta*u_2 - c2 + p_2 - u_1*(Delta_12 + Delta_21)]]))"
      ]
     },
     "metadata": {},
     "output_type": "display_data"
    }
   ],
   "source": [
    "from sympy import Matrix\n",
    "\n",
    "f_diff_wrt_u1_unevaluated = equation.diff(u1, evaluate=False)\n",
    "f_diff_wrt_u2_unevaluated = equation.diff(u2, evaluate=False)\n",
    "\n",
    "f_diff_wrt_u1 = f_diff_wrt_u1_unevaluated.doit()\n",
    "f_diff_wrt_u2 = f_diff_wrt_u2_unevaluated.doit()\n",
    "\n",
    "display(\n",
    "    Eq(\n",
    "        Matrix([\n",
    "            f(u1, u2).diff(u1),\n",
    "            f(u1, u2).diff(u2),\n",
    "        ]),\n",
    "        Matrix([\n",
    "            f_diff_wrt_u1_unevaluated,\n",
    "            f_diff_wrt_u2_unevaluated,\n",
    "        ]), \n",
    "    ),\n",
    "    Eq(\n",
    "        Matrix([0, 0]),\n",
    "        Matrix([\n",
    "            f_diff_wrt_u1_unevaluated,\n",
    "            f_diff_wrt_u2_unevaluated,\n",
    "        ]), \n",
    "    ),\n",
    "    Eq(\n",
    "        Matrix([0, 0]),\n",
    "        Matrix([\n",
    "            f_diff_wrt_u1,\n",
    "            f_diff_wrt_u2,\n",
    "        ]),\n",
    "    ),\n",
    ")"
   ]
  },
  {
   "cell_type": "markdown",
   "metadata": {
    "id": "x1ppJ7fYDRmP"
   },
   "source": [
    "Solving for $u_1$"
   ]
  },
  {
   "cell_type": "code",
   "execution_count": 38,
   "metadata": {
    "id": "DS7xw0jt43fl"
   },
   "outputs": [
    {
     "data": {
      "text/latex": [
       "$\\displaystyle u_{1} = \\frac{- \\Delta_{12} u_{2} - \\Delta_{21} u_{2} - c_{1} + p_{1}}{2 \\Delta}$"
      ],
      "text/plain": [
       "Eq(u_1, (-Delta_12*u_2 - Delta_21*u_2 - c1 + p_1)/(2*Delta))"
      ]
     },
     "execution_count": 38,
     "metadata": {},
     "output_type": "execute_result"
    }
   ],
   "source": [
    "f_diff_wrt_u1_solved_for_u1 = solve(\n",
    "    f_diff_wrt_u1,\n",
    "    u1,\n",
    ")[0]\n",
    "\n",
    "Eq(\n",
    "    u1,\n",
    "    f_diff_wrt_u1_solved_for_u1\n",
    ")"
   ]
  },
  {
   "cell_type": "markdown",
   "metadata": {
    "id": "MS1bu_w99YnK"
   },
   "source": [
    "Substituting $u_1$ into $\\frac{\\partial}{\\partial u_2} f(u_1,u_2)$"
   ]
  },
  {
   "cell_type": "code",
   "execution_count": 39,
   "metadata": {
    "id": "LSjNm9Q5-CzT"
   },
   "outputs": [
    {
     "data": {
      "text/latex": [
       "$\\displaystyle 0 = - 2 \\Delta u_{2} - c_{2} + p_{2} - \\frac{\\left(\\Delta_{12} + \\Delta_{21}\\right) \\left(- \\Delta_{12} u_{2} - \\Delta_{21} u_{2} - c_{1} + p_{1}\\right)}{2 \\Delta}$"
      ],
      "text/plain": [
       "Eq(0, -2*Delta*u_2 - c2 + p_2 - (Delta_12 + Delta_21)*(-Delta_12*u_2 - Delta_21*u_2 - c1 + p_1)/(2*Delta))"
      ]
     },
     "execution_count": 39,
     "metadata": {},
     "output_type": "execute_result"
    }
   ],
   "source": [
    "f_diff_wrt_u2_removed_u1 = f_diff_wrt_u2.subs(\n",
    "    u1,\n",
    "    f_diff_wrt_u1_solved_for_u1\n",
    ")\n",
    "Eq(\n",
    "    0,\n",
    "    f_diff_wrt_u2_removed_u1,\n",
    ")"
   ]
  },
  {
   "cell_type": "markdown",
   "metadata": {
    "id": "shmHFK-8GgiX"
   },
   "source": [
    "Solving for $u^\\ast_2$"
   ]
  },
  {
   "cell_type": "code",
   "execution_count": 40,
   "metadata": {
    "id": "PKs8Tl-pGflj"
   },
   "outputs": [
    {
     "data": {
      "text/latex": [
       "$\\displaystyle u^{*}_{2} = \\frac{2 \\Delta c_{2} - 2 \\Delta p_{2} - \\Delta_{12} c_{1} + \\Delta_{12} p_{1} - \\Delta_{21} c_{1} + \\Delta_{21} p_{1}}{- 4 \\Delta^{2} + \\Delta_{12}^{2} + 2 \\Delta_{12} \\Delta_{21} + \\Delta_{21}^{2}}$"
      ],
      "text/plain": [
       "Eq(u^*_2, (2*Delta*c2 - 2*Delta*p_2 - Delta_12*c1 + Delta_12*p_1 - Delta_21*c1 + Delta_21*p_1)/(-4*Delta**2 + Delta_12**2 + 2*Delta_12*Delta_21 + Delta_21**2))"
      ]
     },
     "execution_count": 40,
     "metadata": {},
     "output_type": "execute_result"
    }
   ],
   "source": [
    "u2s = symbols(\"u^*_2\")\n",
    "f_diff_wrt_u2_solved_for_u2 = solve(\n",
    "    f_diff_wrt_u2_removed_u1,\n",
    "    u2\n",
    ")[0]\n",
    "\n",
    "Eq(\n",
    "    u2s,\n",
    "    f_diff_wrt_u2_solved_for_u2\n",
    ")"
   ]
  },
  {
   "cell_type": "markdown",
   "metadata": {
    "id": "ntkrAuW_Ep8V"
   },
   "source": [
    "Substituting the constants"
   ]
  },
  {
   "cell_type": "code",
   "execution_count": 41,
   "metadata": {
    "id": "xrLrrO13FNZ7"
   },
   "outputs": [
    {
     "data": {
      "text/latex": [
       "$\\displaystyle u^{*}_{2} = 7165.30483972345$"
      ],
      "text/plain": [
       "Eq(u^*_2, 7165.30483972345)"
      ]
     },
     "execution_count": 41,
     "metadata": {},
     "output_type": "execute_result"
    }
   ],
   "source": [
    "u2s_value = f_diff_wrt_u2_solved_for_u2.subs(constants)\n",
    "Eq(\n",
    "    u2s,\n",
    "    u2s_value\n",
    ")"
   ]
  },
  {
   "cell_type": "markdown",
   "metadata": {
    "id": "eLZtuvFgE-K8"
   },
   "source": [
    "We can now similarly solve for $u^*_1$ but by using a function!"
   ]
  },
  {
   "cell_type": "code",
   "execution_count": 42,
   "metadata": {
    "id": "4oiNNcARRiC1"
   },
   "outputs": [
    {
     "data": {
      "text/latex": [
       "$\\displaystyle \\left[\\begin{matrix}\\frac{\\partial}{\\partial u_{1}} f{\\left(u_{1},u_{2} \\right)}\\\\\\frac{\\partial}{\\partial u_{2}} f{\\left(u_{1},u_{2} \\right)}\\end{matrix}\\right] = \\left[\\begin{matrix}\\frac{\\partial}{\\partial u_{1}} \\left(- \\Delta \\left(u_{1}^{2} + u_{2}^{2}\\right) - c_{0} - u_{1} u_{2} \\left(\\Delta_{12} + \\Delta_{21}\\right) + u_{1} \\left(- c_{1} + p_{1}\\right) + u_{2} \\left(- c_{2} + p_{2}\\right)\\right)\\\\\\frac{\\partial}{\\partial u_{2}} \\left(- \\Delta \\left(u_{1}^{2} + u_{2}^{2}\\right) - c_{0} - u_{1} u_{2} \\left(\\Delta_{12} + \\Delta_{21}\\right) + u_{1} \\left(- c_{1} + p_{1}\\right) + u_{2} \\left(- c_{2} + p_{2}\\right)\\right)\\end{matrix}\\right]$"
      ],
      "text/plain": [
       "Eq(Matrix([\n",
       "[Derivative(f(u_1, u_2), u_1)],\n",
       "[Derivative(f(u_1, u_2), u_2)]]), Matrix([\n",
       "[Derivative(-Delta*(u_1**2 + u_2**2) - c0 - u_1*u_2*(Delta_12 + Delta_21) + u_1*(-c1 + p_1) + u_2*(-c2 + p_2), u_1)],\n",
       "[Derivative(-Delta*(u_1**2 + u_2**2) - c0 - u_1*u_2*(Delta_12 + Delta_21) + u_1*(-c1 + p_1) + u_2*(-c2 + p_2), u_2)]]))"
      ]
     },
     "metadata": {},
     "output_type": "display_data"
    },
    {
     "data": {
      "text/latex": [
       "$\\displaystyle \\left[\\begin{matrix}\\frac{\\partial}{\\partial u_{1}} f{\\left(u_{1},u_{2} \\right)}\\\\\\frac{\\partial}{\\partial u_{2}} f{\\left(u_{1},u_{2} \\right)}\\end{matrix}\\right] = \\left[\\begin{matrix}- 2 \\Delta u_{1} - c_{1} + p_{1} - u_{2} \\left(\\Delta_{12} + \\Delta_{21}\\right)\\\\- 2 \\Delta u_{2} - c_{2} + p_{2} - u_{1} \\left(\\Delta_{12} + \\Delta_{21}\\right)\\end{matrix}\\right]$"
      ],
      "text/plain": [
       "Eq(Matrix([\n",
       "[Derivative(f(u_1, u_2), u_1)],\n",
       "[Derivative(f(u_1, u_2), u_2)]]), Matrix([\n",
       "[-2*Delta*u_1 - c1 + p_1 - u_2*(Delta_12 + Delta_21)],\n",
       "[-2*Delta*u_2 - c2 + p_2 - u_1*(Delta_12 + Delta_21)]]))"
      ]
     },
     "metadata": {},
     "output_type": "display_data"
    },
    {
     "data": {
      "text/latex": [
       "$\\displaystyle \\left[\\begin{matrix}0\\\\0\\end{matrix}\\right] = \\left[\\begin{matrix}- 2 \\Delta u_{1} - c_{1} + p_{1} - u_{2} \\left(\\Delta_{12} + \\Delta_{21}\\right)\\\\- 2 \\Delta u_{2} - c_{2} + p_{2} - u_{1} \\left(\\Delta_{12} + \\Delta_{21}\\right)\\end{matrix}\\right]$"
      ],
      "text/plain": [
       "Eq(Matrix([\n",
       "[0],\n",
       "[0]]), Matrix([\n",
       "[-2*Delta*u_1 - c1 + p_1 - u_2*(Delta_12 + Delta_21)],\n",
       "[-2*Delta*u_2 - c2 + p_2 - u_1*(Delta_12 + Delta_21)]]))"
      ]
     },
     "metadata": {},
     "output_type": "display_data"
    },
    {
     "data": {
      "text/latex": [
       "$\\displaystyle u_{1} = \\frac{- \\Delta_{12} u_{2} - \\Delta_{21} u_{2} - c_{1} + p_{1}}{2 \\Delta}$"
      ],
      "text/plain": [
       "Eq(u_1, (-Delta_12*u_2 - Delta_21*u_2 - c1 + p_1)/(2*Delta))"
      ]
     },
     "metadata": {},
     "output_type": "display_data"
    },
    {
     "data": {
      "text/latex": [
       "$\\displaystyle 0 = - 2 \\Delta u_{2} - c_{2} + p_{2} - \\frac{\\left(\\Delta_{12} + \\Delta_{21}\\right) \\left(- \\Delta_{12} u_{2} - \\Delta_{21} u_{2} - c_{1} + p_{1}\\right)}{2 \\Delta}$"
      ],
      "text/plain": [
       "Eq(0, -2*Delta*u_2 - c2 + p_2 - (Delta_12 + Delta_21)*(-Delta_12*u_2 - Delta_21*u_2 - c1 + p_1)/(2*Delta))"
      ]
     },
     "metadata": {},
     "output_type": "display_data"
    },
    {
     "data": {
      "text/latex": [
       "$\\displaystyle u^{*}_{2} = \\frac{2 \\Delta c_{2} - 2 \\Delta p_{2} - \\Delta_{12} c_{1} + \\Delta_{12} p_{1} - \\Delta_{21} c_{1} + \\Delta_{21} p_{1}}{- 4 \\Delta^{2} + \\Delta_{12}^{2} + 2 \\Delta_{12} \\Delta_{21} + \\Delta_{21}^{2}}$"
      ],
      "text/plain": [
       "Eq(u^*_2, (2*Delta*c2 - 2*Delta*p_2 - Delta_12*c1 + Delta_12*p_1 - Delta_21*c1 + Delta_21*p_1)/(-4*Delta**2 + Delta_12**2 + 2*Delta_12*Delta_21 + Delta_21**2))"
      ]
     },
     "metadata": {},
     "output_type": "display_data"
    },
    {
     "data": {
      "text/latex": [
       "$\\displaystyle u^{*}_{2} = 7165.30483972345$"
      ],
      "text/plain": [
       "Eq(u^*_2, 7165.30483972345)"
      ]
     },
     "metadata": {},
     "output_type": "display_data"
    },
    {
     "data": {
      "text/latex": [
       "$\\displaystyle u_{2} = \\frac{- \\Delta_{12} u_{1} - \\Delta_{21} u_{1} - c_{2} + p_{2}}{2 \\Delta}$"
      ],
      "text/plain": [
       "Eq(u_2, (-Delta_12*u_1 - Delta_21*u_1 - c2 + p_2)/(2*Delta))"
      ]
     },
     "metadata": {},
     "output_type": "display_data"
    },
    {
     "data": {
      "text/latex": [
       "$\\displaystyle 0 = - 2 \\Delta u_{1} - c_{1} + p_{1} - \\frac{\\left(\\Delta_{12} + \\Delta_{21}\\right) \\left(- \\Delta_{12} u_{1} - \\Delta_{21} u_{1} - c_{2} + p_{2}\\right)}{2 \\Delta}$"
      ],
      "text/plain": [
       "Eq(0, -2*Delta*u_1 - c1 + p_1 - (Delta_12 + Delta_21)*(-Delta_12*u_1 - Delta_21*u_1 - c2 + p_2)/(2*Delta))"
      ]
     },
     "metadata": {},
     "output_type": "display_data"
    },
    {
     "data": {
      "text/latex": [
       "$\\displaystyle u^{*}_{1} = \\frac{2 \\Delta c_{1} - 2 \\Delta p_{1} - \\Delta_{12} c_{2} + \\Delta_{12} p_{2} - \\Delta_{21} c_{2} + \\Delta_{21} p_{2}}{- 4 \\Delta^{2} + \\Delta_{12}^{2} + 2 \\Delta_{12} \\Delta_{21} + \\Delta_{21}^{2}}$"
      ],
      "text/plain": [
       "Eq(u^*_1, (2*Delta*c1 - 2*Delta*p_1 - Delta_12*c2 + Delta_12*p_2 - Delta_21*c2 + Delta_21*p_2)/(-4*Delta**2 + Delta_12**2 + 2*Delta_12*Delta_21 + Delta_21**2))"
      ]
     },
     "metadata": {},
     "output_type": "display_data"
    },
    {
     "data": {
      "text/latex": [
       "$\\displaystyle u^{*}_{1} = 4462.60213702074$"
      ],
      "text/plain": [
       "Eq(u^*_1, 4462.60213702074)"
      ]
     },
     "metadata": {},
     "output_type": "display_data"
    },
    {
     "data": {
      "text/latex": [
       "$\\displaystyle \\left[\\begin{matrix}u^{*}_{1}\\\\u^{*}_{2}\\end{matrix}\\right] = \\left[\\begin{matrix}4462.60213702074\\\\7165.30483972345\\end{matrix}\\right]$"
      ],
      "text/plain": [
       "Eq(Matrix([\n",
       "[u^*_1],\n",
       "[u^*_2]]), Matrix([\n",
       "[4462.60213702074],\n",
       "[7165.30483972345]]))"
      ]
     },
     "metadata": {},
     "output_type": "display_data"
    }
   ],
   "source": [
    "from sympy import Expr\n",
    "from sympy import Symbol\n",
    "\n",
    "def calculate_maximum(\n",
    "    equation: Expr,\n",
    "    function: Function,\n",
    "    parameter1: Symbol,\n",
    "    parameter2: Symbol,\n",
    "    output_symbol1: Symbol,\n",
    "    output_symbol2: Symbol,\n",
    "    constants: dict[Symbol, float | int],\n",
    ") -> dict[Symbol, float | int]:\n",
    "    f = function\n",
    "    v1 = parameter1\n",
    "    v2 = parameter2\n",
    "    v1s = output_symbol1\n",
    "    v2s = output_symbol2\n",
    "\n",
    "    f_grad = Matrix([\n",
    "        f(v1, v2).diff(v1),\n",
    "        f(v1, v2).diff(v2),\n",
    "    ])\n",
    "\n",
    "    display(\n",
    "        Eq(\n",
    "            f_grad,\n",
    "            Matrix([\n",
    "                equation.diff(v1, evaluate=False),\n",
    "                equation.diff(v2, evaluate=False),\n",
    "            ]),\n",
    "            evaluate=False,\n",
    "        )\n",
    "    )\n",
    "\n",
    "    f_diff_wrt = {\n",
    "        v1: equation.diff(v1),\n",
    "        v2: equation.diff(v2),\n",
    "    }\n",
    "    f_diff = Matrix(\n",
    "        list(f_diff_wrt.values())\n",
    "    )\n",
    "    display(\n",
    "        Eq(\n",
    "            f_grad,\n",
    "            f_diff,\n",
    "        ),\n",
    "        Eq(\n",
    "            Matrix([\n",
    "                0,\n",
    "                0\n",
    "            ]),\n",
    "            f_diff,\n",
    "        )\n",
    "    )\n",
    "\n",
    "    values = {}\n",
    "    for v, u, output_symbol in (\n",
    "        (v1, v2, output_symbol2),\n",
    "        (v2, v1, output_symbol1)\n",
    "    ):\n",
    "        f_diff_wrt_v_solved_for_v = solve(\n",
    "            f_diff_wrt[v],\n",
    "            v,\n",
    "        )[0]\n",
    "\n",
    "        display(\n",
    "            Eq(\n",
    "                v,\n",
    "                f_diff_wrt_v_solved_for_v,\n",
    "            )\n",
    "        )\n",
    "\n",
    "\n",
    "        f_diff_wrt_u_removed_v = f_diff_wrt[u].subs(\n",
    "            v,\n",
    "            f_diff_wrt_v_solved_for_v,\n",
    "        )\n",
    "        display(\n",
    "            Eq(\n",
    "                0,\n",
    "                f_diff_wrt_u_removed_v,\n",
    "            )\n",
    "        )\n",
    "\n",
    "        f_diff_wrt_u_solved_for_u = solve(\n",
    "            f_diff_wrt_u_removed_v,\n",
    "            u\n",
    "        )[0]\n",
    "\n",
    "        display(\n",
    "            Eq(\n",
    "                output_symbol,\n",
    "                f_diff_wrt_u_solved_for_u\n",
    "            )\n",
    "        )\n",
    "\n",
    "        value = f_diff_wrt_u_solved_for_u.subs(constants)\n",
    "        display(\n",
    "            Eq(\n",
    "                output_symbol,\n",
    "                value,\n",
    "            )\n",
    "        )\n",
    "        values[u] = value\n",
    "\n",
    "    return values\n",
    "\n",
    "u1s = symbols(\"u^*_1\")\n",
    "u2s = symbols(\"u^*_2\")\n",
    "\n",
    "values = calculate_maximum(\n",
    "    equation=equation,\n",
    "    function=f,\n",
    "    parameter1=u1,\n",
    "    parameter2=u2,\n",
    "    output_symbol1=u1s,\n",
    "    output_symbol2=u2s,\n",
    "    constants=constants,\n",
    ")\n",
    "\n",
    "display(\n",
    "    Eq(\n",
    "        Matrix([\n",
    "            u1s,\n",
    "            u2s,\n",
    "        ]),\n",
    "        Matrix([\n",
    "            values[u1],\n",
    "            values[u2],\n",
    "        ])\n",
    "    )\n",
    ")"
   ]
  },
  {
   "cell_type": "markdown",
   "metadata": {
    "id": "-81JKzIiSdYM"
   },
   "source": [
    "Substituting to get the profit at the maximum point"
   ]
  },
  {
   "cell_type": "code",
   "execution_count": 43,
   "metadata": {
    "id": "-12dTtyVSUBG"
   },
   "outputs": [
    {
     "data": {
      "text/latex": [
       "$\\displaystyle 1021055.93966059$"
      ],
      "text/plain": [
       "1021055.93966059"
      ]
     },
     "execution_count": 43,
     "metadata": {},
     "output_type": "execute_result"
    }
   ],
   "source": [
    "all_values = {\n",
    "    u1: values[u1],\n",
    "    u2: values[u2],\n",
    "    **constants,\n",
    "}\n",
    "equation.subs(all_values)"
   ]
  },
  {
   "cell_type": "markdown",
   "metadata": {
    "id": "Vt6JEuokgGzz"
   },
   "source": [
    "## Appendix"
   ]
  },
  {
   "cell_type": "markdown",
   "metadata": {
    "id": "v2mJ95pAUx3R"
   },
   "source": [
    "* [sympy.org](https://www.sympy.org)\n",
    "![screenshot of sympy github readme](images/github.png)\n",
    "* [Contribute @ github.com/sympy/sympy](https://github.com/sympy/sympy)\n",
    "![screenshot of sympy github issues](images/sympy_contribute.png)\n",
    "* [jupyter.org](https://jupyter.org/)\n",
    "* [Submitting](https://github.com/ekohilas/python-ate-my-homework/python_ate_my_homework_pycon_us_2024.html)\n",
    "* [Links @ github.com/ekohilas/python-ate-my-homework](https://github.com/ekohilas/python-ate-my-homework)  \n",
    "![qr code to repository](images/qrcode.svg)\n",
    "* `@ekohilas` - `nohumanerrors.com`\n",
    "* Feedback!\n",
    "* Thanks to my partner, friends, and you for watching! ❤️\n",
    "* Questions?"
   ]
  },
  {
   "cell_type": "markdown",
   "metadata": {},
   "source": [
    "## FAQ"
   ]
  },
  {
   "cell_type": "markdown",
   "metadata": {},
   "source": [
    "**Why is using the `factorint` function from SymPy okay?**\n",
    "\n",
    "Well, most calculators have a factorisation button.\n",
    "\n",
    "![calculator with factorisation button](images/factor_button.png)\n",
    "\n",
    "And we're allowed them in an exam so 🤷"
   ]
  },
  {
   "cell_type": "markdown",
   "metadata": {},
   "source": [
    "**Why is using the `diff` method from SymPy okay?**\n",
    "\n",
    "At this level of mathematics, there's a mutual understanding that we know how to differentiate equations, and doing so by hand is fiddly, repetitive, and error prone, which is what we're trying to avoid.\n",
    "\n",
    "SymPy, just like any tool used inappropriately, will cause harm."
   ]
  },
  {
   "cell_type": "markdown",
   "metadata": {},
   "source": [
    "**Isn't this entire process cheating?**\n",
    "\n",
    "I argue that implementing this process as code solidifies one's understanding of the theory, and doing simple, mundane, and repetitive calculations does not.\n",
    "\n",
    "That being said, someone who is dependent on this and uses it in place of learning, shouldn't expect to do well in an exam environment."
   ]
  },
  {
   "cell_type": "markdown",
   "metadata": {},
   "source": [
    "**Isn't solving the multi-variable equation again redundant?**\n",
    "\n",
    "Yes, you could substitute the value back in to get the value of $u_1$.\n",
    "The point being made is that it can be easier to repeat the method with changed variables, and generalise it for other situations, rather than using more maths.\n",
    "\n",
    "If you did want to do that, the code is:"
   ]
  },
  {
   "cell_type": "code",
   "execution_count": 44,
   "metadata": {},
   "outputs": [
    {
     "data": {
      "text/latex": [
       "$\\displaystyle 4462.60213702074$"
      ],
      "text/plain": [
       "4462.60213702074"
      ]
     },
     "execution_count": 44,
     "metadata": {},
     "output_type": "execute_result"
    }
   ],
   "source": [
    "f_diff_wrt_u1_solved_for_u1.subs({**constants, u2:u2s_value})"
   ]
  },
  {
   "cell_type": "markdown",
   "metadata": {},
   "source": [
    "**Why does the equation for Q3 break for specific numbers?**\n",
    "\n",
    "Changing the equation such that $c_1 \\ge p_1$, $c2 \\ge p2$, or $\\Delta_{12} = \\Delta_{21}$ can cause the curve to change form, such as making the extremal point to change from a maximum to a minimum, or demand negative units.\n",
    "\n",
    "In the interests of presenting on time, the example for Q3 assumes that these cases will be ignored.\n"
   ]
  }
 ],
 "metadata": {
  "colab": {
   "provenance": []
  },
  "kernelspec": {
   "display_name": "Python 3 (ipykernel)",
   "language": "python",
   "name": "python3"
  },
  "language_info": {
   "codemirror_mode": {
    "name": "ipython",
    "version": 3
   },
   "file_extension": ".py",
   "mimetype": "text/x-python",
   "name": "python",
   "nbconvert_exporter": "python",
   "pygments_lexer": "ipython3",
   "version": "3.12.0"
  }
 },
 "nbformat": 4,
 "nbformat_minor": 4
}
