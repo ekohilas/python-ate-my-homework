{
 "cells": [
  {
   "cell_type": "markdown",
   "metadata": {
    "id": "RkAdqV7WaqrJ"
   },
   "source": [
    "# Python ate my Homework!\n",
    "## Evan Kohilas\n",
    "### @ekohilas"
   ]
  },
  {
   "cell_type": "markdown",
   "metadata": {
    "id": "lW2ymfOibNTG"
   },
   "source": [
    "## Maths Assignments"
   ]
  },
  {
   "cell_type": "markdown",
   "metadata": {
    "id": "lW2ymfOibNTG"
   },
   "source": [
    "### Traditionally handwritten\n",
    "![example assignment solution written by hand](images/assignment_handwritten.jpg)\n",
    "\n",
    "### Or now, digitally written\n",
    "![example assignment solution written by stylus](images/assignment_stylus.png)\n",
    "\n",
    "### Or re-written with Latex\n",
    "![example assignment solution written in latex](images/assignment_latex.png)\n",
    "\n",
    "### But these could all be:\n",
    "* Messy and illegible\n",
    "* Tedious and time consuming\n",
    "* Error prone and unvalidated\n",
    "* Static and unchangeable\n",
    "\n",
    "### Can we do better?"
   ]
  },
  {
   "cell_type": "markdown",
   "metadata": {
    "id": "iMeG8QH-goXC"
   },
   "source": [
    "## Question 1: Discrete Maths"
   ]
  },
  {
   "cell_type": "markdown",
   "metadata": {
    "id": "cuo1q6f_td8O"
   },
   "source": [
    "Show whether the following numbers can be represented as a sum of two squares ($a^2 + b^2 = n$):\n",
    "1. 100\n",
    "1. 70\n",
    "1. 4250\n",
    "\n",
    "e.g.\n",
    "\n",
    "$250 = 81 + 169$\n",
    "\n",
    "$250 = 9^2 + 13^2$"
   ]
  },
  {
   "cell_type": "markdown",
   "metadata": {
    "id": "bxfqL5FS7YQl"
   },
   "source": [
    "**Theorem Reminder:**\n",
    "\n",
    "*A positive integer $n$ is the sum of two squares if and only if $p \\equiv 1 \\pmod 4$ for all odd primes $p$ that divide $n$ an odd number of times.*"
   ]
  },
  {
   "cell_type": "markdown",
   "metadata": {
    "id": "91JjZsS5-8GN"
   },
   "source": [
    "Primes that divide n are also known as factors of n."
   ]
  },
  {
   "cell_type": "markdown",
   "metadata": {},
   "source": [
    "e.g. factors of $100$ are:\n",
    "\n",
    "$100 = 2 \\cdot 2 \\cdot 5 \\cdot 5 = 2^2 \\cdot 5^2 $"
   ]
  },
  {
   "cell_type": "markdown",
   "metadata": {},
   "source": [
    "Most calculators have a factorisation button\n",
    "\n",
    "![calculator with factorisation button](images/factor_button.png)\n",
    "\n",
    "So let's import one from SymPy (a Python library for symbolic mathematics)"
   ]
  },
  {
   "cell_type": "code",
   "execution_count": 1,
   "metadata": {
    "id": "FAyfNmPX773I"
   },
   "outputs": [],
   "source": [
    "from sympy import factorint"
   ]
  },
  {
   "cell_type": "code",
   "execution_count": 2,
   "metadata": {
    "id": "Et1XjhQf7YQx"
   },
   "outputs": [
    {
     "data": {
      "text/plain": [
       "{2: 2, 5: 2}"
      ]
     },
     "execution_count": 2,
     "metadata": {},
     "output_type": "execute_result"
    }
   ],
   "source": [
    "factorint(100)"
   ]
  },
  {
   "cell_type": "markdown",
   "metadata": {
    "id": "91JjZsS5-8GN"
   },
   "source": [
    "```\n",
    "def sum_of_two_squares(n):\n",
    "    for factor, power in factors_of_(n):\n",
    "        if factor is even:\n",
    "            continue\n",
    "        if power is even:\n",
    "            return False\n",
    "        if factor % 4 != 1:\n",
    "            return False\n",
    "    return True\n",
    "```"
   ]
  },
  {
   "cell_type": "code",
   "execution_count": 3,
   "metadata": {
    "id": "JLgbZtyG-i8i"
   },
   "outputs": [
    {
     "name": "stdout",
     "output_type": "stream",
     "text": [
      "Q1.1: False \n",
      "\n",
      "Q1.2: False \n",
      "\n",
      "Q1.3: True \n",
      "\n"
     ]
    }
   ],
   "source": [
    "def sum_of_two_squares(n: int) -> bool:\n",
    "    factors = factorint(n)\n",
    "    for prime, power in sorted(factors.items()):\n",
    "        odd_prime = prime % 2 == 1\n",
    "        odd_power = power % 2 == 1\n",
    "        one_remainder_four = prime % 4 == 1\n",
    "        if not odd_prime:\n",
    "            continue\n",
    "        if not odd_power:\n",
    "            return False\n",
    "        if not one_remainder_four:\n",
    "            return False\n",
    "    return True\n",
    "\n",
    "print(\"Q1.1:\", sum_of_two_squares(100), \"\\n\")\n",
    "print(\"Q1.2:\", sum_of_two_squares(70), \"\\n\")\n",
    "print(\"Q1.3:\", sum_of_two_squares(4250), \"\\n\")"
   ]
  },
  {
   "cell_type": "code",
   "execution_count": 4,
   "metadata": {
    "id": "lpza11OhCcER"
   },
   "outputs": [
    {
     "name": "stdout",
     "output_type": "stream",
     "text": [
      "Factors of 100 are: {2: 2, 5: 2}.\n",
      "100 is not a sum of two squares since the prime factor (5)'s power (2) is even.\n",
      "Q1.1: False \n",
      "\n",
      "Factors of 70 are: {2: 1, 5: 1, 7: 1}.\n",
      "70 is not a sum of two squares since prime factor 7 % 4 == 3 != 1.\n",
      "Q1.2: False \n",
      "\n",
      "Factors of 4250 are: {2: 1, 5: 3, 17: 1}.\n",
      "4250 is a sum of two squares as all of its prime factors % 4 == 1 and all of their powers are odd.\n",
      "Q1.3: True \n",
      "\n"
     ]
    }
   ],
   "source": [
    "def sum_of_two_squares(n: int) -> bool:\n",
    "    factors = factorint(n)\n",
    "    print(f\"Factors of {n} are: {factors}.\")\n",
    "    for prime, power in sorted(factors.items()):\n",
    "        odd_prime = prime % 2 == 1\n",
    "        odd_power = power % 2 == 1\n",
    "        one_remainder_four = prime % 4 == 1\n",
    "        if not odd_prime:\n",
    "            continue\n",
    "        if not odd_power:\n",
    "            print(\n",
    "                f\"{n} is not a sum of two squares since\",\n",
    "                f\"the prime factor ({prime})'s power ({power}) is even.\",\n",
    "            )\n",
    "            return False\n",
    "        if not one_remainder_four:\n",
    "            print(\n",
    "                f\"{n} is not a sum of two squares since\",\n",
    "                f\"prime factor {prime} % 4 == {prime % 4} != 1.\",\n",
    "            )\n",
    "            return False\n",
    "    print(\n",
    "        f\"{n} is a sum of two squares as\",\n",
    "        \"all of its prime factors % 4 == 1\",\n",
    "        \"and all of their powers are odd.\",\n",
    "    )\n",
    "    return True\n",
    "\n",
    "print(\"Q1.1:\", sum_of_two_squares(100), \"\\n\")\n",
    "print(\"Q1.2:\", sum_of_two_squares(70), \"\\n\")\n",
    "print(\"Q1.3:\", sum_of_two_squares(4250), \"\\n\")"
   ]
  },
  {
   "cell_type": "code",
   "execution_count": 5,
   "metadata": {
    "id": "HaseuvPA72ZO"
   },
   "outputs": [
    {
     "data": {
      "text/latex": [
       "$\\displaystyle 2^{2} \\cdot 5^{2}$"
      ],
      "text/plain": [
       "2**2*5**2"
      ]
     },
     "execution_count": 5,
     "metadata": {},
     "output_type": "execute_result"
    }
   ],
   "source": [
    "factorint(100, visual=True)"
   ]
  },
  {
   "cell_type": "code",
   "execution_count": 6,
   "metadata": {
    "id": "gcO3-rIxHTLi"
   },
   "outputs": [],
   "source": [
    "from sympy import Eq"
   ]
  },
  {
   "cell_type": "code",
   "execution_count": 7,
   "metadata": {
    "id": "1LqBX9jKHM_r"
   },
   "outputs": [
    {
     "data": {
      "text/latex": [
       "$\\displaystyle \\text{True}$"
      ],
      "text/plain": [
       "True"
      ]
     },
     "execution_count": 7,
     "metadata": {},
     "output_type": "execute_result"
    }
   ],
   "source": [
    "Eq(\n",
    "    100,\n",
    "    factorint(100, visual=True),\n",
    ")"
   ]
  },
  {
   "cell_type": "code",
   "execution_count": 8,
   "metadata": {
    "id": "vTwUBPmNHxQ6"
   },
   "outputs": [
    {
     "data": {
      "text/latex": [
       "$\\displaystyle 100 = 2^{2} \\cdot 5^{2}$"
      ],
      "text/plain": [
       "Eq(100, 2**2*5**2)"
      ]
     },
     "execution_count": 8,
     "metadata": {},
     "output_type": "execute_result"
    }
   ],
   "source": [
    "Eq(\n",
    "    100,\n",
    "    factorint(100, visual=True),\n",
    "    evaluate=False,\n",
    ")"
   ]
  },
  {
   "cell_type": "code",
   "execution_count": 9,
   "metadata": {
    "id": "g2IVwjc4J2O_"
   },
   "outputs": [],
   "source": [
    "from IPython.display import Markdown"
   ]
  },
  {
   "cell_type": "code",
   "execution_count": 10,
   "metadata": {
    "id": "BRB1IZhnH-lb"
   },
   "outputs": [
    {
     "data": {
      "text/latex": [
       "$\\displaystyle 100 = 2^{2} \\cdot 5^{2}$"
      ],
      "text/plain": [
       "Eq(100, 2**2*5**2)"
      ]
     },
     "metadata": {},
     "output_type": "display_data"
    },
    {
     "data": {
      "text/markdown": [
       "$100$ is not a sum of two squares since the prime factor's power $(5^2)$ is even."
      ],
      "text/plain": [
       "<IPython.core.display.Markdown object>"
      ]
     },
     "metadata": {},
     "output_type": "display_data"
    },
    {
     "name": "stdout",
     "output_type": "stream",
     "text": [
      "Q1.1: False \n",
      "\n"
     ]
    },
    {
     "data": {
      "text/latex": [
       "$\\displaystyle 70 = 2^{1} \\cdot 5^{1} \\cdot 7^{1}$"
      ],
      "text/plain": [
       "Eq(70, 2**1*5**1*7**1)"
      ]
     },
     "metadata": {},
     "output_type": "display_data"
    },
    {
     "data": {
      "text/markdown": [
       "$70$ is not a sum of two squares since the following prime factor$7 \\pmod 4 \\equiv 3 \\not\\equiv 1$."
      ],
      "text/plain": [
       "<IPython.core.display.Markdown object>"
      ]
     },
     "metadata": {},
     "output_type": "display_data"
    },
    {
     "name": "stdout",
     "output_type": "stream",
     "text": [
      "Q1.2: False \n",
      "\n"
     ]
    },
    {
     "data": {
      "text/latex": [
       "$\\displaystyle 4250 = 17^{1} \\cdot 2^{1} \\cdot 5^{3}$"
      ],
      "text/plain": [
       "Eq(4250, 2**1*5**3*17**1)"
      ]
     },
     "metadata": {},
     "output_type": "display_data"
    },
    {
     "data": {
      "text/markdown": [
       "$4250$ is a sum of squares as for all of its odd prime factors $p^k$, $p \\pmod 4 = 1$ and $k$ is odd."
      ],
      "text/plain": [
       "<IPython.core.display.Markdown object>"
      ]
     },
     "metadata": {},
     "output_type": "display_data"
    },
    {
     "name": "stdout",
     "output_type": "stream",
     "text": [
      "Q1.3: True \n",
      "\n"
     ]
    }
   ],
   "source": [
    "def sum_of_two_squares(n: int) -> bool:\n",
    "    display(\n",
    "        Eq(\n",
    "            n,\n",
    "            factorint(n, visual=True),\n",
    "            evaluate=False,\n",
    "        )\n",
    "    )\n",
    "    factors = factorint(n)\n",
    "    for prime, power in sorted(factors.items()):\n",
    "        odd_prime = prime % 2 == 1\n",
    "        odd_power = power % 2 == 1\n",
    "        one_remainder_four = prime % 4 == 1\n",
    "        if not odd_prime:\n",
    "            continue\n",
    "        if not odd_power:\n",
    "            display(Markdown(\n",
    "                f\"${n}$ is not a sum of two squares since \"\n",
    "                f\"the prime factor's power $({prime}^{power})$ is even.\"\n",
    "            ))\n",
    "            return False\n",
    "        if not one_remainder_four:\n",
    "            display(Markdown(\n",
    "                f\"${n}$ is not a sum of two squares since the following prime factor\"\n",
    "                f\"${prime} \\\\pmod 4 \\\\equiv {prime % 4} \\\\not\\\\equiv 1$.\"\n",
    "            ))\n",
    "            return False\n",
    "    display(Markdown(\n",
    "        f\"${n}$ is a sum of squares as \"\n",
    "        \"for all of its odd prime factors $p^k$, \"\n",
    "        \"$p \\\\pmod 4 = 1$ \"\n",
    "        \"and $k$ is odd.\"\n",
    "    ))\n",
    "    return True\n",
    "\n",
    "print(\"Q1.1:\", sum_of_two_squares(100), \"\\n\")\n",
    "print(\"Q1.2:\", sum_of_two_squares(70), \"\\n\")\n",
    "print(\"Q1.3:\", sum_of_two_squares(4250), \"\\n\")"
   ]
  },
  {
   "cell_type": "code",
   "execution_count": 11,
   "metadata": {
    "id": "18H41djXR7CH"
   },
   "outputs": [],
   "source": [
    "from sympy.solvers.diophantine.diophantine import sum_of_squares"
   ]
  },
  {
   "cell_type": "code",
   "execution_count": 12,
   "metadata": {
    "id": "MLNhV0RJRvMz"
   },
   "outputs": [
    {
     "data": {
      "text/latex": [
       "$\\displaystyle 100 = 2^{2} \\cdot 5^{2}$"
      ],
      "text/plain": [
       "Eq(100, 2**2*5**2)"
      ]
     },
     "metadata": {},
     "output_type": "display_data"
    },
    {
     "data": {
      "text/markdown": [
       "$100$ is not a sum of two squares since the prime factor's power $(5^2)$ is even."
      ],
      "text/plain": [
       "<IPython.core.display.Markdown object>"
      ]
     },
     "metadata": {},
     "output_type": "display_data"
    },
    {
     "name": "stdout",
     "output_type": "stream",
     "text": [
      "Q1.1: False \n",
      "\n"
     ]
    },
    {
     "data": {
      "text/latex": [
       "$\\displaystyle 70 = 2^{1} \\cdot 5^{1} \\cdot 7^{1}$"
      ],
      "text/plain": [
       "Eq(70, 2**1*5**1*7**1)"
      ]
     },
     "metadata": {},
     "output_type": "display_data"
    },
    {
     "data": {
      "text/markdown": [
       "$70$ is not a sum of two squares since prime factor $7 \\pmod 4 \\equiv 3 \\not\\equiv 1$."
      ],
      "text/plain": [
       "<IPython.core.display.Markdown object>"
      ]
     },
     "metadata": {},
     "output_type": "display_data"
    },
    {
     "name": "stdout",
     "output_type": "stream",
     "text": [
      "Q1.2: False \n",
      "\n"
     ]
    },
    {
     "data": {
      "text/latex": [
       "$\\displaystyle 4250 = 17^{1} \\cdot 2^{1} \\cdot 5^{3}$"
      ],
      "text/plain": [
       "Eq(4250, 2**1*5**3*17**1)"
      ]
     },
     "metadata": {},
     "output_type": "display_data"
    },
    {
     "data": {
      "text/markdown": [
       "$4250$ is a sum of squares as for all of its odd prime factors $p^k$, $p \\pmod 4 = 1$ and $k$ is odd.\n",
       "\n",
       " e.g. $4250 = 43 ^ 2 + 49 ^ 2$"
      ],
      "text/plain": [
       "<IPython.core.display.Markdown object>"
      ]
     },
     "metadata": {},
     "output_type": "display_data"
    },
    {
     "name": "stdout",
     "output_type": "stream",
     "text": [
      "Q1.3: True \n",
      "\n"
     ]
    }
   ],
   "source": [
    "def sum_of_two_squares(n: int) -> bool:\n",
    "    display(\n",
    "        Eq(\n",
    "            n,\n",
    "            factorint(n, visual=True),\n",
    "            evaluate=False,\n",
    "        )\n",
    "    )\n",
    "    factors = factorint(n)\n",
    "    for prime, power in sorted(factors.items()):\n",
    "        odd_prime = prime % 2 == 1\n",
    "        odd_power = power % 2 == 1\n",
    "        one_remainder_four = prime % 4 == 1\n",
    "        if not odd_prime:\n",
    "            continue\n",
    "        if not odd_power:\n",
    "            display(Markdown(\n",
    "                f\"${n}$ is not a sum of two squares since \"\n",
    "                f\"the prime factor's power $({prime}^{power})$ is even.\"\n",
    "            ))\n",
    "            return False\n",
    "        if not one_remainder_four:\n",
    "            display(Markdown(\n",
    "                f\"${n}$ is not a sum of two squares since prime factor \"\n",
    "                f\"${prime} \\\\pmod 4 \\\\equiv {prime % 4} \\\\not\\\\equiv 1$.\"\n",
    "            ))\n",
    "            return False\n",
    "    square1, square2 = next(sum_of_squares(n=n, k=2))\n",
    "    display(Markdown(\n",
    "        f\"${n}$ is a sum of squares as \"\n",
    "        \"for all of its odd prime factors $p^k$, \"\n",
    "        \"$p \\\\pmod 4 = 1$ \"\n",
    "        \"and $k$ is odd.\"\n",
    "        f\"\\n\\n e.g. ${n} = {square1} ^ 2 + {square2} ^ 2$\"\n",
    "    ))\n",
    "    return True\n",
    "\n",
    "print(\"Q1.1:\", sum_of_two_squares(100), \"\\n\")\n",
    "print(\"Q1.2:\", sum_of_two_squares(70), \"\\n\")\n",
    "print(\"Q1.3:\", sum_of_two_squares(4250), \"\\n\")"
   ]
  },
  {
   "cell_type": "markdown",
   "metadata": {
    "id": "4WGixZuef_wP"
   },
   "source": [
    "## Question 2: Multivariable Calculus"
   ]
  },
  {
   "cell_type": "markdown",
   "metadata": {
    "id": "NGDrb885Km2p"
   },
   "source": [
    "The following profit function $f(u_1, u_2)$ describes the profit that results from selling $u_1$ units of Product 1 and $u_2$ units of Product 2.\n",
    "\n",
    "$f{\\left(u_{1},u_{2} \\right)} = - \\Delta \\left(u_{1}^{2} + u_{2}^{2}\\right) - c_{0} - u_{1} u_{2} \\left(\\Delta_{12} + \\Delta_{21}\\right) + u_{1} \\left(- c_{1} + p_{1}\\right) + u_{2} \\left(- c_{2} + p_{2}\\right)$\n",
    "\n",
    "$\\pi_1$ and $\\pi_2$ represent, respectively, the market price (per unit) for each product.\n",
    "\n",
    "$c_1$ and $c_2$ represent, respectively, the cost (per unit) for each product.\n",
    "\n",
    "$c_0$ represents the fixed cost, regardless of any production or sales.\n",
    "\n",
    "$\\Delta$ represents the decrease in unit price of each product for any additional unit that is sold of that product.\n",
    "\n",
    "$\\Delta_{12}$ represents the decrease in price of Product 1 for each additional unit that is sold of Product 2 (and vice versa for $\\Delta_{21}$).\n",
    "\n",
    "Assuming that a unique solution exists and is extremal, find the optimal profit for the following parameters:\n",
    "\n",
    "$\\pi_1 = \\$400$\n",
    "\n",
    "$\\pi_2 = \\$600$\n",
    "\n",
    "$c_1 = \\$200$\n",
    "\n",
    "$c_2 = \\$300$\n",
    "\n",
    "$c_0 = \\$500,000$\n",
    "\n",
    "$\\Delta = \\$0.02$\n",
    "\n",
    "$\\Delta_{12} = \\$0.001$\n",
    "\n",
    "$\\Delta_{21} = \\$0.002$"
   ]
  },
  {
   "cell_type": "markdown",
   "metadata": {
    "id": "GoVP4cl0otXd"
   },
   "source": [
    "What can Wolfram Alpha do? [1](https://www.wolframalpha.com/input?i=%24f%7B%5Cleft%28u_%7B1%7D%2Cu_%7B2%7D+%5Cright%29%7D+%3D+-+%5CDelta+%5Cleft%28u_%7B1%7D%5E%7B2%7D+%2B+u_%7B2%7D%5E%7B2%7D%5Cright%29+-+c_%7B0%7D+-+u_%7B1%7D+u_%7B2%7D+%5Cleft%28%5CDelta_%7B12%7D+%2B+%5CDelta_%7B21%7D%5Cright%29+%2B+u_%7B1%7D+%5Cleft%28-+c_%7B1%7D+%2B+p_%7B1%7D%5Cright%29+%2B+u_%7B2%7D+%5Cleft%28-+c_%7B2%7D+%2B+p_%7B2%7D%5Cright%29%24+%24%5Cpi_1+%3D+%5C%24400%24+%24%5Cpi_2+%3D+%5C%24600%24+%24c_1+%3D+%5C%24200%24+%24c_2+%3D+%5C%24300%24+%24c_0+%3D+%5C%24500%2C000%24+%24%5CDelta+%3D+%5C%240.02%24+%24%5CDelta_%7B12%7D+%3D+%5C%240.001%24+%24%5CDelta_%7B21%7D+%3D+%5C%240.002%24)\n",
    "[2](https://www.wolframalpha.com/input?i=maximum+of+-+0.02+*+%28u%5E2+%2B+v%5E2%29+-+500000+-+u+*+v+*+%280.001+%2B+0.002%29+%2B+u+*+%28-+200+%2B+400%29+%2B+v+*+%28-+300+%2B+600%29)\n"
   ]
  },
  {
   "cell_type": "code",
   "execution_count": 13,
   "metadata": {
    "id": "ppcSYRI8t8ta"
   },
   "outputs": [],
   "source": [
    "from sympy import symbols\n",
    "from sympy import Function"
   ]
  },
  {
   "cell_type": "code",
   "execution_count": 14,
   "metadata": {
    "id": "w-xFeY3SA0G8"
   },
   "outputs": [],
   "source": [
    "u1, u2 = symbols(\"u_1 u_2\")\n",
    "c0, c1, c2 = symbols(\"c:3\")\n",
    "p1, p2 = symbols(\"p_1 p_2\")\n",
    "D, D12, D21 = symbols(\"Delta Delta_12 Delta_21\")\n",
    "f = Function(\"f\")"
   ]
  },
  {
   "cell_type": "code",
   "execution_count": 15,
   "metadata": {
    "id": "8rgfAPxhCGwq"
   },
   "outputs": [],
   "source": [
    "equation = (\n",
    "    -c0\n",
    "    + u1 * (p1 - c1)\n",
    "    + u2 * (p2 - c2)\n",
    "    - u1 * u2 * (D12 + D21)\n",
    "    - D * (u1 ** 2 + u2 ** 2)\n",
    ")"
   ]
  },
  {
   "cell_type": "code",
   "execution_count": 16,
   "metadata": {
    "id": "u50BevTp00q9"
   },
   "outputs": [
    {
     "data": {
      "text/latex": [
       "$\\displaystyle f{\\left(u_{1},u_{2} \\right)} = - \\Delta \\left(u_{1}^{2} + u_{2}^{2}\\right) - c_{0} - u_{1} u_{2} \\left(\\Delta_{12} + \\Delta_{21}\\right) + u_{1} \\left(- c_{1} + p_{1}\\right) + u_{2} \\left(- c_{2} + p_{2}\\right)$"
      ],
      "text/plain": [
       "Eq(f(u_1, u_2), -Delta*(u_1**2 + u_2**2) - c0 - u_1*u_2*(Delta_12 + Delta_21) + u_1*(-c1 + p_1) + u_2*(-c2 + p_2))"
      ]
     },
     "execution_count": 16,
     "metadata": {},
     "output_type": "execute_result"
    }
   ],
   "source": [
    "Eq(\n",
    "    f(u1, u2),\n",
    "    equation,\n",
    ")"
   ]
  },
  {
   "cell_type": "code",
   "execution_count": 17,
   "metadata": {
    "id": "U3Kgxz1GzVUc"
   },
   "outputs": [],
   "source": [
    "constants = {\n",
    "    p1: 400,\n",
    "    p2: 600,\n",
    "    c1: 200,\n",
    "    c2: 300,\n",
    "    c0: 500_000,\n",
    "    D: 0.02,\n",
    "    D12: 0.001,\n",
    "    D21: 0.002,\n",
    "}"
   ]
  },
  {
   "cell_type": "code",
   "execution_count": 18,
   "metadata": {
    "id": "AzsryUbvzTnF"
   },
   "outputs": [],
   "source": [
    "from sympy.plotting.plot import plot3d"
   ]
  },
  {
   "cell_type": "code",
   "execution_count": 19,
   "metadata": {
    "id": "Ivt-R08YOfj2"
   },
   "outputs": [
    {
     "data": {
      "image/png": "[encoded data removed]",
      "text/plain": [
       "<Figure size 640x480 with 1 Axes>"
      ]
     },
     "metadata": {},
     "output_type": "display_data"
    },
    {
     "data": {
      "text/plain": [
       "<sympy.plotting.plot.Plot at 0x7f5cffa08510>"
      ]
     },
     "execution_count": 19,
     "metadata": {},
     "output_type": "execute_result"
    }
   ],
   "source": [
    "plot3d(\n",
    "    equation.subs(constants),\n",
    "    (u1, 0, 10_000),\n",
    "    (u2, 0, 10_000),\n",
    ")"
   ]
  },
  {
   "cell_type": "markdown",
   "metadata": {
    "id": "4OE3bZb1-TL7"
   },
   "source": [
    "**Reminder:**\n",
    "\n",
    "The maximum value of $f$ is where $\\nabla f = \\bf 0$\n",
    "\n",
    "Where $\\nabla f(x,y) = \\left[\\begin{matrix}\\frac{\\partial}{\\partial x} f(x,y)\\\\\\frac{\\partial}{\\partial y} f(x,y)\\end{matrix}\\right]$"
   ]
  },
  {
   "cell_type": "markdown",
   "metadata": {
    "id": "5S67io3yIZd2"
   },
   "source": [
    "Thus, to find the optimal profit, we must find the maximum, by finding the values $u^\\ast_1$, $u^\\ast_2$ for which $\\nabla f(u^\\ast_1, u^\\ast_2) = \\bf 0$."
   ]
  },
  {
   "cell_type": "code",
   "execution_count": 20,
   "metadata": {
    "id": "314P_oGJBDNa"
   },
   "outputs": [],
   "source": [
    "from sympy import Matrix"
   ]
  },
  {
   "cell_type": "code",
   "execution_count": 21,
   "metadata": {
    "id": "fbVEeku7I97b"
   },
   "outputs": [
    {
     "data": {
      "text/latex": [
       "$\\displaystyle \\left[\\begin{matrix}\\frac{\\partial}{\\partial u_{1}} f{\\left(u_{1},u_{2} \\right)}\\\\\\frac{\\partial}{\\partial u_{2}} f{\\left(u_{1},u_{2} \\right)}\\end{matrix}\\right] = \\left[\\begin{matrix}\\frac{\\partial}{\\partial u_{1}} \\left(- \\Delta \\left(u_{1}^{2} + u_{2}^{2}\\right) - c_{0} - u_{1} u_{2} \\left(\\Delta_{12} + \\Delta_{21}\\right) + u_{1} \\left(- c_{1} + p_{1}\\right) + u_{2} \\left(- c_{2} + p_{2}\\right)\\right)\\\\\\frac{\\partial}{\\partial u_{2}} \\left(- \\Delta \\left(u_{1}^{2} + u_{2}^{2}\\right) - c_{0} - u_{1} u_{2} \\left(\\Delta_{12} + \\Delta_{21}\\right) + u_{1} \\left(- c_{1} + p_{1}\\right) + u_{2} \\left(- c_{2} + p_{2}\\right)\\right)\\end{matrix}\\right]$"
      ],
      "text/plain": [
       "Eq(Matrix([\n",
       "[Derivative(f(u_1, u_2), u_1)],\n",
       "[Derivative(f(u_1, u_2), u_2)]]), Matrix([\n",
       "[Derivative(-Delta*(u_1**2 + u_2**2) - c0 - u_1*u_2*(Delta_12 + Delta_21) + u_1*(-c1 + p_1) + u_2*(-c2 + p_2), u_1)],\n",
       "[Derivative(-Delta*(u_1**2 + u_2**2) - c0 - u_1*u_2*(Delta_12 + Delta_21) + u_1*(-c1 + p_1) + u_2*(-c2 + p_2), u_2)]]))"
      ]
     },
     "execution_count": 21,
     "metadata": {},
     "output_type": "execute_result"
    }
   ],
   "source": [
    "f_grad = Matrix([\n",
    "    f(u1, u2).diff(u1),\n",
    "    f(u1, u2).diff(u2),\n",
    "])\n",
    "\n",
    "Eq(\n",
    "    f_grad,\n",
    "    Matrix([\n",
    "        equation.diff(u1, evaluate=False),\n",
    "        equation.diff(u2, evaluate=False),\n",
    "    ])\n",
    ")"
   ]
  },
  {
   "cell_type": "code",
   "execution_count": 22,
   "metadata": {
    "id": "6rR3deXWNIkz"
   },
   "outputs": [
    {
     "data": {
      "text/latex": [
       "$\\displaystyle \\left[\\begin{matrix}\\frac{\\partial}{\\partial u_{1}} f{\\left(u_{1},u_{2} \\right)}\\\\\\frac{\\partial}{\\partial u_{2}} f{\\left(u_{1},u_{2} \\right)}\\end{matrix}\\right] = \\left[\\begin{matrix}- 2 \\Delta u_{1} - c_{1} + p_{1} - u_{2} \\left(\\Delta_{12} + \\Delta_{21}\\right)\\\\- 2 \\Delta u_{2} - c_{2} + p_{2} - u_{1} \\left(\\Delta_{12} + \\Delta_{21}\\right)\\end{matrix}\\right]$"
      ],
      "text/plain": [
       "Eq(Matrix([\n",
       "[Derivative(f(u_1, u_2), u_1)],\n",
       "[Derivative(f(u_1, u_2), u_2)]]), Matrix([\n",
       "[-2*Delta*u_1 - c1 + p_1 - u_2*(Delta_12 + Delta_21)],\n",
       "[-2*Delta*u_2 - c2 + p_2 - u_1*(Delta_12 + Delta_21)]]))"
      ]
     },
     "execution_count": 22,
     "metadata": {},
     "output_type": "execute_result"
    }
   ],
   "source": [
    "f_diff_wrt_u1 = equation.diff(u1)\n",
    "f_diff_wrt_u2 = equation.diff(u2)\n",
    "\n",
    "f_diff = Matrix([\n",
    "    f_diff_wrt_u1,\n",
    "    f_diff_wrt_u2,\n",
    "])\n",
    "Eq(\n",
    "    f_grad,\n",
    "    f_diff,\n",
    ")"
   ]
  },
  {
   "cell_type": "code",
   "execution_count": 23,
   "metadata": {
    "id": "bN8ObG7OXGZu"
   },
   "outputs": [
    {
     "data": {
      "text/latex": [
       "$\\displaystyle \\left[\\begin{matrix}0\\\\0\\end{matrix}\\right] = \\left[\\begin{matrix}- 2 \\Delta u_{1} - c_{1} + p_{1} - u_{2} \\left(\\Delta_{12} + \\Delta_{21}\\right)\\\\- 2 \\Delta u_{2} - c_{2} + p_{2} - u_{1} \\left(\\Delta_{12} + \\Delta_{21}\\right)\\end{matrix}\\right]$"
      ],
      "text/plain": [
       "Eq(Matrix([\n",
       "[0],\n",
       "[0]]), Matrix([\n",
       "[-2*Delta*u_1 - c1 + p_1 - u_2*(Delta_12 + Delta_21)],\n",
       "[-2*Delta*u_2 - c2 + p_2 - u_1*(Delta_12 + Delta_21)]]))"
      ]
     },
     "execution_count": 23,
     "metadata": {},
     "output_type": "execute_result"
    }
   ],
   "source": [
    "Eq(\n",
    "    Matrix([\n",
    "        0,\n",
    "        0\n",
    "    ]),\n",
    "    f_diff,\n",
    ")"
   ]
  },
  {
   "cell_type": "markdown",
   "metadata": {
    "id": "x1ppJ7fYDRmP"
   },
   "source": [
    "Solving for $u_1$"
   ]
  },
  {
   "cell_type": "code",
   "execution_count": 24,
   "metadata": {},
   "outputs": [],
   "source": [
    "from sympy import solve"
   ]
  },
  {
   "cell_type": "code",
   "execution_count": 25,
   "metadata": {
    "id": "DS7xw0jt43fl"
   },
   "outputs": [
    {
     "data": {
      "text/latex": [
       "$\\displaystyle u_{1} = \\frac{- \\Delta_{12} u_{2} - \\Delta_{21} u_{2} - c_{1} + p_{1}}{2 \\Delta}$"
      ],
      "text/plain": [
       "Eq(u_1, (-Delta_12*u_2 - Delta_21*u_2 - c1 + p_1)/(2*Delta))"
      ]
     },
     "execution_count": 25,
     "metadata": {},
     "output_type": "execute_result"
    }
   ],
   "source": [
    "f_diff_wrt_u1_solved_for_u1 = solve(\n",
    "    f_diff_wrt_u1,\n",
    "    u1,\n",
    ")[0]\n",
    "\n",
    "Eq(\n",
    "    u1,\n",
    "    f_diff_wrt_u1_solved_for_u1\n",
    ")"
   ]
  },
  {
   "cell_type": "markdown",
   "metadata": {
    "id": "MS1bu_w99YnK"
   },
   "source": [
    "Substituting $u_1$ into $\\frac{\\partial}{\\partial u_2} f(u_1,u_2)$"
   ]
  },
  {
   "cell_type": "code",
   "execution_count": 26,
   "metadata": {
    "id": "LSjNm9Q5-CzT"
   },
   "outputs": [
    {
     "data": {
      "text/latex": [
       "$\\displaystyle 0 = - 2 \\Delta u_{2} - c_{2} + p_{2} - \\frac{\\left(\\Delta_{12} + \\Delta_{21}\\right) \\left(- \\Delta_{12} u_{2} - \\Delta_{21} u_{2} - c_{1} + p_{1}\\right)}{2 \\Delta}$"
      ],
      "text/plain": [
       "Eq(0, -2*Delta*u_2 - c2 + p_2 - (Delta_12 + Delta_21)*(-Delta_12*u_2 - Delta_21*u_2 - c1 + p_1)/(2*Delta))"
      ]
     },
     "execution_count": 26,
     "metadata": {},
     "output_type": "execute_result"
    }
   ],
   "source": [
    "f_diff_wrt_u2_removed_u1 = f_diff_wrt_u2.subs(\n",
    "    u1,\n",
    "    f_diff_wrt_u1_solved_for_u1\n",
    ")\n",
    "Eq(\n",
    "    0,\n",
    "    f_diff_wrt_u2_removed_u1,\n",
    ")"
   ]
  },
  {
   "cell_type": "markdown",
   "metadata": {
    "id": "shmHFK-8GgiX"
   },
   "source": [
    "Solving for $u^\\ast_2$"
   ]
  },
  {
   "cell_type": "code",
   "execution_count": 27,
   "metadata": {
    "id": "PKs8Tl-pGflj"
   },
   "outputs": [
    {
     "data": {
      "text/latex": [
       "$\\displaystyle u^{*}_{2} = \\frac{2 \\Delta c_{2} - 2 \\Delta p_{2} - \\Delta_{12} c_{1} + \\Delta_{12} p_{1} - \\Delta_{21} c_{1} + \\Delta_{21} p_{1}}{- 4 \\Delta^{2} + \\Delta_{12}^{2} + 2 \\Delta_{12} \\Delta_{21} + \\Delta_{21}^{2}}$"
      ],
      "text/plain": [
       "Eq(u^*_2, (2*Delta*c2 - 2*Delta*p_2 - Delta_12*c1 + Delta_12*p_1 - Delta_21*c1 + Delta_21*p_1)/(-4*Delta**2 + Delta_12**2 + 2*Delta_12*Delta_21 + Delta_21**2))"
      ]
     },
     "execution_count": 27,
     "metadata": {},
     "output_type": "execute_result"
    }
   ],
   "source": [
    "u2s = symbols(\"u^*_2\")\n",
    "f_diff_wrt_u2_solved_for_u2 = solve(\n",
    "    f_diff_wrt_u2_removed_u1,\n",
    "    u2\n",
    ")[0]\n",
    "\n",
    "Eq(\n",
    "    u2s,\n",
    "    f_diff_wrt_u2_solved_for_u2\n",
    ")"
   ]
  },
  {
   "cell_type": "markdown",
   "metadata": {
    "id": "ntkrAuW_Ep8V"
   },
   "source": [
    "Substituting the constants"
   ]
  },
  {
   "cell_type": "code",
   "execution_count": 28,
   "metadata": {
    "id": "xrLrrO13FNZ7"
   },
   "outputs": [
    {
     "data": {
      "text/latex": [
       "$\\displaystyle u^{*}_{2} = 7165.30483972345$"
      ],
      "text/plain": [
       "Eq(u^*_2, 7165.30483972345)"
      ]
     },
     "execution_count": 28,
     "metadata": {},
     "output_type": "execute_result"
    }
   ],
   "source": [
    "u2s_value = f_diff_wrt_u2_solved_for_u2.subs(constants)\n",
    "Eq(\n",
    "    u2s,\n",
    "    u2s_value\n",
    ")"
   ]
  },
  {
   "cell_type": "markdown",
   "metadata": {
    "id": "eLZtuvFgE-K8"
   },
   "source": [
    "We can now similarly solve for $u^*_1$ but by using a function!"
   ]
  },
  {
   "cell_type": "code",
   "execution_count": 29,
   "metadata": {
    "id": "4oiNNcARRiC1"
   },
   "outputs": [],
   "source": [
    "from sympy import Expr\n",
    "from sympy import Symbol"
   ]
  },
  {
   "cell_type": "code",
   "execution_count": 30,
   "metadata": {
    "id": "T3obsVKFE9gK",
    "scrolled": true
   },
   "outputs": [
    {
     "data": {
      "text/latex": [
       "$\\displaystyle \\left[\\begin{matrix}\\frac{\\partial}{\\partial u_{1}} f{\\left(u_{1},u_{2} \\right)}\\\\\\frac{\\partial}{\\partial u_{2}} f{\\left(u_{1},u_{2} \\right)}\\end{matrix}\\right] = \\left[\\begin{matrix}\\frac{\\partial}{\\partial u_{1}} \\left(- \\Delta \\left(u_{1}^{2} + u_{2}^{2}\\right) - c_{0} - u_{1} u_{2} \\left(\\Delta_{12} + \\Delta_{21}\\right) + u_{1} \\left(- c_{1} + p_{1}\\right) + u_{2} \\left(- c_{2} + p_{2}\\right)\\right)\\\\\\frac{\\partial}{\\partial u_{2}} \\left(- \\Delta \\left(u_{1}^{2} + u_{2}^{2}\\right) - c_{0} - u_{1} u_{2} \\left(\\Delta_{12} + \\Delta_{21}\\right) + u_{1} \\left(- c_{1} + p_{1}\\right) + u_{2} \\left(- c_{2} + p_{2}\\right)\\right)\\end{matrix}\\right]$"
      ],
      "text/plain": [
       "Eq(Matrix([\n",
       "[Derivative(f(u_1, u_2), u_1)],\n",
       "[Derivative(f(u_1, u_2), u_2)]]), Matrix([\n",
       "[Derivative(-Delta*(u_1**2 + u_2**2) - c0 - u_1*u_2*(Delta_12 + Delta_21) + u_1*(-c1 + p_1) + u_2*(-c2 + p_2), u_1)],\n",
       "[Derivative(-Delta*(u_1**2 + u_2**2) - c0 - u_1*u_2*(Delta_12 + Delta_21) + u_1*(-c1 + p_1) + u_2*(-c2 + p_2), u_2)]]))"
      ]
     },
     "metadata": {},
     "output_type": "display_data"
    },
    {
     "data": {
      "text/latex": [
       "$\\displaystyle \\left[\\begin{matrix}\\frac{\\partial}{\\partial u_{1}} f{\\left(u_{1},u_{2} \\right)}\\\\\\frac{\\partial}{\\partial u_{2}} f{\\left(u_{1},u_{2} \\right)}\\end{matrix}\\right] = \\left[\\begin{matrix}- 2 \\Delta u_{1} - c_{1} + p_{1} - u_{2} \\left(\\Delta_{12} + \\Delta_{21}\\right)\\\\- 2 \\Delta u_{2} - c_{2} + p_{2} - u_{1} \\left(\\Delta_{12} + \\Delta_{21}\\right)\\end{matrix}\\right]$"
      ],
      "text/plain": [
       "Eq(Matrix([\n",
       "[Derivative(f(u_1, u_2), u_1)],\n",
       "[Derivative(f(u_1, u_2), u_2)]]), Matrix([\n",
       "[-2*Delta*u_1 - c1 + p_1 - u_2*(Delta_12 + Delta_21)],\n",
       "[-2*Delta*u_2 - c2 + p_2 - u_1*(Delta_12 + Delta_21)]]))"
      ]
     },
     "metadata": {},
     "output_type": "display_data"
    },
    {
     "data": {
      "text/latex": [
       "$\\displaystyle \\left[\\begin{matrix}0\\\\0\\end{matrix}\\right] = \\left[\\begin{matrix}- 2 \\Delta u_{1} - c_{1} + p_{1} - u_{2} \\left(\\Delta_{12} + \\Delta_{21}\\right)\\\\- 2 \\Delta u_{2} - c_{2} + p_{2} - u_{1} \\left(\\Delta_{12} + \\Delta_{21}\\right)\\end{matrix}\\right]$"
      ],
      "text/plain": [
       "Eq(Matrix([\n",
       "[0],\n",
       "[0]]), Matrix([\n",
       "[-2*Delta*u_1 - c1 + p_1 - u_2*(Delta_12 + Delta_21)],\n",
       "[-2*Delta*u_2 - c2 + p_2 - u_1*(Delta_12 + Delta_21)]]))"
      ]
     },
     "metadata": {},
     "output_type": "display_data"
    },
    {
     "data": {
      "text/latex": [
       "$\\displaystyle u_{1} = \\frac{- \\Delta_{12} u_{2} - \\Delta_{21} u_{2} - c_{1} + p_{1}}{2 \\Delta}$"
      ],
      "text/plain": [
       "Eq(u_1, (-Delta_12*u_2 - Delta_21*u_2 - c1 + p_1)/(2*Delta))"
      ]
     },
     "metadata": {},
     "output_type": "display_data"
    },
    {
     "data": {
      "text/latex": [
       "$\\displaystyle 0 = - 2 \\Delta u_{2} - c_{2} + p_{2} - \\frac{\\left(\\Delta_{12} + \\Delta_{21}\\right) \\left(- \\Delta_{12} u_{2} - \\Delta_{21} u_{2} - c_{1} + p_{1}\\right)}{2 \\Delta}$"
      ],
      "text/plain": [
       "Eq(0, -2*Delta*u_2 - c2 + p_2 - (Delta_12 + Delta_21)*(-Delta_12*u_2 - Delta_21*u_2 - c1 + p_1)/(2*Delta))"
      ]
     },
     "metadata": {},
     "output_type": "display_data"
    },
    {
     "data": {
      "text/latex": [
       "$\\displaystyle u^{*}_{2} = \\frac{2 \\Delta c_{2} - 2 \\Delta p_{2} - \\Delta_{12} c_{1} + \\Delta_{12} p_{1} - \\Delta_{21} c_{1} + \\Delta_{21} p_{1}}{- 4 \\Delta^{2} + \\Delta_{12}^{2} + 2 \\Delta_{12} \\Delta_{21} + \\Delta_{21}^{2}}$"
      ],
      "text/plain": [
       "Eq(u^*_2, (2*Delta*c2 - 2*Delta*p_2 - Delta_12*c1 + Delta_12*p_1 - Delta_21*c1 + Delta_21*p_1)/(-4*Delta**2 + Delta_12**2 + 2*Delta_12*Delta_21 + Delta_21**2))"
      ]
     },
     "metadata": {},
     "output_type": "display_data"
    },
    {
     "data": {
      "text/latex": [
       "$\\displaystyle u^{*}_{2} = 7165.30483972345$"
      ],
      "text/plain": [
       "Eq(u^*_2, 7165.30483972345)"
      ]
     },
     "metadata": {},
     "output_type": "display_data"
    },
    {
     "data": {
      "text/latex": [
       "$\\displaystyle u_{2} = \\frac{- \\Delta_{12} u_{1} - \\Delta_{21} u_{1} - c_{2} + p_{2}}{2 \\Delta}$"
      ],
      "text/plain": [
       "Eq(u_2, (-Delta_12*u_1 - Delta_21*u_1 - c2 + p_2)/(2*Delta))"
      ]
     },
     "metadata": {},
     "output_type": "display_data"
    },
    {
     "data": {
      "text/latex": [
       "$\\displaystyle 0 = - 2 \\Delta u_{1} - c_{1} + p_{1} - \\frac{\\left(\\Delta_{12} + \\Delta_{21}\\right) \\left(- \\Delta_{12} u_{1} - \\Delta_{21} u_{1} - c_{2} + p_{2}\\right)}{2 \\Delta}$"
      ],
      "text/plain": [
       "Eq(0, -2*Delta*u_1 - c1 + p_1 - (Delta_12 + Delta_21)*(-Delta_12*u_1 - Delta_21*u_1 - c2 + p_2)/(2*Delta))"
      ]
     },
     "metadata": {},
     "output_type": "display_data"
    },
    {
     "data": {
      "text/latex": [
       "$\\displaystyle u^{*}_{1} = \\frac{2 \\Delta c_{1} - 2 \\Delta p_{1} - \\Delta_{12} c_{2} + \\Delta_{12} p_{2} - \\Delta_{21} c_{2} + \\Delta_{21} p_{2}}{- 4 \\Delta^{2} + \\Delta_{12}^{2} + 2 \\Delta_{12} \\Delta_{21} + \\Delta_{21}^{2}}$"
      ],
      "text/plain": [
       "Eq(u^*_1, (2*Delta*c1 - 2*Delta*p_1 - Delta_12*c2 + Delta_12*p_2 - Delta_21*c2 + Delta_21*p_2)/(-4*Delta**2 + Delta_12**2 + 2*Delta_12*Delta_21 + Delta_21**2))"
      ]
     },
     "metadata": {},
     "output_type": "display_data"
    },
    {
     "data": {
      "text/latex": [
       "$\\displaystyle u^{*}_{1} = 4462.60213702074$"
      ],
      "text/plain": [
       "Eq(u^*_1, 4462.60213702074)"
      ]
     },
     "metadata": {},
     "output_type": "display_data"
    },
    {
     "data": {
      "text/latex": [
       "$\\displaystyle \\left[\\begin{matrix}u^{*}_{1}\\\\u^{*}_{2}\\end{matrix}\\right] = \\left[\\begin{matrix}4462.60213702074\\\\7165.30483972345\\end{matrix}\\right]$"
      ],
      "text/plain": [
       "Eq(Matrix([\n",
       "[u^*_1],\n",
       "[u^*_2]]), Matrix([\n",
       "[4462.60213702074],\n",
       "[7165.30483972345]]))"
      ]
     },
     "metadata": {},
     "output_type": "display_data"
    }
   ],
   "source": [
    "def calculate_maximum(\n",
    "    equation: Expr,\n",
    "    function: Function,\n",
    "    parameter1: Symbol,\n",
    "    parameter2: Symbol,\n",
    "    output_symbol1: Symbol,\n",
    "    output_symbol2: Symbol,\n",
    "    constants: dict[Symbol, float | int],\n",
    ") -> dict[Symbol, float | int]:\n",
    "    f = function\n",
    "    v1 = parameter1\n",
    "    v2 = parameter2\n",
    "    v1s = output_symbol1\n",
    "    v2s = output_symbol2\n",
    "\n",
    "    f_grad = Matrix([\n",
    "        f(v1, v2).diff(v1),\n",
    "        f(v1, v2).diff(v2),\n",
    "    ])\n",
    "\n",
    "    display(\n",
    "        Eq(\n",
    "            f_grad,\n",
    "            Matrix([\n",
    "                equation.diff(v1, evaluate=False),\n",
    "                equation.diff(v2, evaluate=False),\n",
    "            ]),\n",
    "            evaluate=False,\n",
    "        )\n",
    "    )\n",
    "\n",
    "    f_diff_wrt = {\n",
    "        v1: equation.diff(v1),\n",
    "        v2: equation.diff(v2),\n",
    "    }\n",
    "    f_diff = Matrix(\n",
    "        list(f_diff_wrt.values())\n",
    "    )\n",
    "    display(\n",
    "        Eq(\n",
    "            f_grad,\n",
    "            f_diff,\n",
    "        ),\n",
    "        Eq(\n",
    "            Matrix([\n",
    "                0,\n",
    "                0\n",
    "            ]),\n",
    "            f_diff,\n",
    "        )\n",
    "    )\n",
    "\n",
    "    values = {}\n",
    "    for v, u, output_symbol in ((v1, v2, output_symbol2), (v2, v1, output_symbol1)):\n",
    "        f_diff_wrt_v_solved_for_v = solve(\n",
    "            f_diff_wrt[v],\n",
    "            v,\n",
    "        )[0]\n",
    "\n",
    "        display(\n",
    "            Eq(\n",
    "                v,\n",
    "                f_diff_wrt_v_solved_for_v,\n",
    "            )\n",
    "        )\n",
    "\n",
    "\n",
    "        f_diff_wrt_u_removed_v = f_diff_wrt[u].subs(\n",
    "            v,\n",
    "            f_diff_wrt_v_solved_for_v,\n",
    "        )\n",
    "        display(\n",
    "            Eq(\n",
    "                0,\n",
    "                f_diff_wrt_u_removed_v,\n",
    "            )\n",
    "        )\n",
    "\n",
    "        f_diff_wrt_u_solved_for_u = solve(\n",
    "            f_diff_wrt_u_removed_v,\n",
    "            u\n",
    "        )[0]\n",
    "\n",
    "        display(\n",
    "            Eq(\n",
    "                output_symbol,\n",
    "                f_diff_wrt_u_solved_for_u\n",
    "            )\n",
    "        )\n",
    "\n",
    "        value = f_diff_wrt_u_solved_for_u.subs(constants)\n",
    "        display(\n",
    "            Eq(\n",
    "                output_symbol,\n",
    "                value,\n",
    "            )\n",
    "        )\n",
    "        values[u] = value\n",
    "\n",
    "    return values\n",
    "\n",
    "u1s = symbols(\"u^*_1\")\n",
    "u2s = symbols(\"u^*_2\")\n",
    "\n",
    "values = calculate_maximum(\n",
    "    equation=equation,\n",
    "    function=f,\n",
    "    parameter1=u1,\n",
    "    parameter2=u2,\n",
    "    output_symbol1=u1s,\n",
    "    output_symbol2=u2s,\n",
    "    constants=constants,\n",
    ")\n",
    "\n",
    "display(\n",
    "    Eq(\n",
    "        Matrix([\n",
    "            u1s,\n",
    "            u2s,\n",
    "        ]),\n",
    "        Matrix([\n",
    "            values[u1],\n",
    "            values[u2],\n",
    "        ])\n",
    "    )\n",
    ")"
   ]
  },
  {
   "cell_type": "markdown",
   "metadata": {
    "id": "-81JKzIiSdYM"
   },
   "source": [
    "Substituting to get the profit at the maximum point"
   ]
  },
  {
   "cell_type": "code",
   "execution_count": 31,
   "metadata": {
    "id": "-12dTtyVSUBG"
   },
   "outputs": [
    {
     "data": {
      "text/latex": [
       "$\\displaystyle 1021055.93966059$"
      ],
      "text/plain": [
       "1021055.93966059"
      ]
     },
     "execution_count": 31,
     "metadata": {},
     "output_type": "execute_result"
    }
   ],
   "source": [
    "all_values = {\n",
    "    u1: values[u1],\n",
    "    u2: values[u2],\n",
    "    **constants,\n",
    "}\n",
    "equation.subs(all_values)"
   ]
  },
  {
   "cell_type": "markdown",
   "metadata": {
    "id": "Vt6JEuokgGzz"
   },
   "source": [
    "## Appendix"
   ]
  },
  {
   "cell_type": "markdown",
   "metadata": {
    "id": "v2mJ95pAUx3R"
   },
   "source": [
    "* [Sympy](https://www.sympy.org)\n",
    "* [Contributing](https://github.com/sympy/sympy)\n",
    "* [Jupyter](https://jupyter.org/)\n",
    "* Submitting\n",
    "* Links  \n",
    "<!--[qr code to repository](images/qrcode-.svg)-->\n",
    "* Thank you\n",
    "* Questions?"
   ]
  }
 ],
 "metadata": {
  "colab": {
   "provenance": []
  },
  "kernelspec": {
   "display_name": "Python 3 (ipykernel)",
   "language": "python",
   "name": "python3"
  },
  "language_info": {
   "codemirror_mode": {
    "name": "ipython",
    "version": 3
   },
   "file_extension": ".py",
   "mimetype": "text/x-python",
   "name": "python",
   "nbconvert_exporter": "python",
   "pygments_lexer": "ipython3",
   "version": "3.11.1"
  }
 },
 "nbformat": 4,
 "nbformat_minor": 4
}
