{
 "cells": [
  {
   "cell_type": "markdown",
   "metadata": {
    "id": "RkAdqV7WaqrJ"
   },
   "source": [
    "# Python ate my Homework!\n",
    "## Evan Kohilas\n",
    "### @ekohilas"
   ]
  },
  {
   "cell_type": "markdown",
   "metadata": {
    "id": "lW2ymfOibNTG"
   },
   "source": [
    "## Maths Assignments"
   ]
  },
  {
   "cell_type": "markdown",
   "metadata": {
    "id": "lW2ymfOibNTG"
   },
   "source": [
    "### Traditionally handwritten\n",
    "![example assignment solution written by hand](images/assignment_handwritten.jpg)\n",
    "\n",
    "### Or re-written with Latex\n",
    "![example assignment solution written in latex](images/assignment_latex.png)\n",
    "\n",
    "### But these could all be:\n",
    "* Messy and illegible\n",
    "* Tedious and time consuming\n",
    "* Error prone and unvalidated\n",
    "* Static and unchangeable\n",
    "\n",
    "### We can do better!"
   ]
  },
  {
   "cell_type": "markdown",
   "metadata": {
    "id": "iMeG8QH-goXC"
   },
   "source": [
    "## Question 1: Discrete Maths"
   ]
  },
  {
   "cell_type": "markdown",
   "metadata": {
    "id": "cuo1q6f_td8O"
   },
   "source": [
    "Show whether the following numbers can be represented as a sum of two squares ($n = a^2 + b^2$):\n",
    "1. 49\n",
    "2. 85\n",
    "3. 343\n",
    "\n",
    "e.g.\n",
    "\n",
    "$250 = 81 + 169$\n",
    "\n",
    "$250 = 9^2 + 13^2$"
   ]
  },
  {
   "cell_type": "markdown",
   "metadata": {
    "id": "bxfqL5FS7YQl"
   },
   "source": [
    "**Theorem Reminder:**\n",
    "\n",
    "*A positive integer $n$ can be written as a sum of two squares if and only if there is no prime $p$ that divides $n$ an odd number of times and for which $p \\ \\% \\ 4 = 3$.*"
   ]
  },
  {
   "cell_type": "markdown",
   "metadata": {
    "id": "91JjZsS5-8GN"
   },
   "source": [
    "Primes that divide $n$ are also known as factors of $n$."
   ]
  },
  {
   "cell_type": "markdown",
   "metadata": {},
   "source": [
    "e.g. factors of $250$ are:\n",
    "\n",
    "$250 = 2 \\cdot 5 \\cdot 5 \\cdot 5 = 2^1 \\cdot 5^3 $"
   ]
  },
  {
   "cell_type": "markdown",
   "metadata": {},
   "source": [
    "Thus we want to check if there is any $p^k$ such that $p\\ \\%\\ 4 = 3$ and $k\\ \\%\\ 2 = 1$."
   ]
  },
  {
   "cell_type": "code",
   "execution_count": null,
   "metadata": {
    "id": "91JjZsS5-8GN"
   },
   "outputs": [],
   "source": [
    "def sum_of_two_squares(n: int) -> bool:\n",
    "    for p, k in factors(n):\n",
    "        if k % 2 == 1 and p % 4 == 3:\n",
    "            return False\n",
    "    return True"
   ]
  },
  {
   "cell_type": "markdown",
   "metadata": {},
   "source": [
    "But how do we calculate the factors?\n",
    "\n",
    "Well, most calculators have a factorisation button.\n",
    "\n",
    "![calculator with factorisation button](images/factor_button.png)\n",
    "\n",
    "So let's import one from SymPy (a Python library for symbolic mathematics)"
   ]
  },
  {
   "cell_type": "code",
   "execution_count": 1,
   "metadata": {
    "id": "FAyfNmPX773I"
   },
   "outputs": [],
   "source": [
    "from sympy import factorint"
   ]
  },
  {
   "cell_type": "code",
   "execution_count": 2,
   "metadata": {
    "id": "Et1XjhQf7YQx"
   },
   "outputs": [
    {
     "data": {
      "text/plain": [
       "{2: 1, 5: 3}"
      ]
     },
     "execution_count": 2,
     "metadata": {},
     "output_type": "execute_result"
    }
   ],
   "source": [
    "factorint(250)"
   ]
  },
  {
   "cell_type": "markdown",
   "metadata": {},
   "source": [
    "Using this, we get:"
   ]
  },
  {
   "cell_type": "code",
   "execution_count": 3,
   "metadata": {
    "id": "JLgbZtyG-i8i"
   },
   "outputs": [
    {
     "name": "stdout",
     "output_type": "stream",
     "text": [
      "Q1.1: True \n",
      "\n",
      "Q1.2: True \n",
      "\n",
      "Q1.3: False \n",
      "\n"
     ]
    }
   ],
   "source": [
    "def sum_of_two_squares(n: int) -> bool:\n",
    "    factors = factorint(n)\n",
    "    for prime, power in sorted(factors.items()):\n",
    "        is_odd_power = power % 2 == 1\n",
    "        is_3_mod_4 = prime % 4 == 3\n",
    "        if is_odd_power and is_3_mod_4:\n",
    "            return False\n",
    "    return True\n",
    "\n",
    "print(\"Q1.1:\", sum_of_two_squares(85), \"\\n\")\n",
    "print(\"Q1.2:\", sum_of_two_squares(49), \"\\n\")\n",
    "print(\"Q1.3:\", sum_of_two_squares(343), \"\\n\")"
   ]
  },
  {
   "cell_type": "code",
   "execution_count": 4,
   "metadata": {
    "id": "lpza11OhCcER"
   },
   "outputs": [
    {
     "name": "stdout",
     "output_type": "stream",
     "text": [
      "Factors of 85 are: {5: 1, 17: 1}\n",
      "Checking 5^1:\n",
      "Prime 5 % 4 = 1 ≠ 3\n",
      "Power 1 is odd\n",
      "Checking 17^1:\n",
      "Prime 17 % 4 = 1 ≠ 3\n",
      "Power 1 is odd\n",
      "Therefore 85 can be written as a sum of two squares, since there is no prime p^k where k is odd and p % 4 = 3.\n",
      "Q1.1: True \n",
      "\n",
      "Factors of 49 are: {7: 2}\n",
      "Checking 7^2:\n",
      "Prime 7 % 4 = 3 = 3\n",
      "Power 2 is even\n",
      "Therefore 49 can be written as a sum of two squares, since there is no prime p^k where k is odd and p % 4 = 3.\n",
      "Q1.2: True \n",
      "\n",
      "Factors of 343 are: {7: 3}\n",
      "Checking 7^3:\n",
      "Prime 7 % 4 = 3 = 3\n",
      "Power 3 is odd\n",
      "Therefore 343 cannot be written as a sum of two squares, since there is a prime p^k where k is odd and p % 4 = 3.\n",
      "Q1.3: False \n",
      "\n"
     ]
    }
   ],
   "source": [
    "def sum_of_two_squares(n: int) -> bool:\n",
    "    factors = factorint(n)\n",
    "    print(f\"Factors of {n} are: {factors}\")\n",
    "    factors = factorint(n)\n",
    "    for prime, power in sorted(factors.items()):\n",
    "        is_odd_power = power % 2 == 1\n",
    "        is_3_mod_4 = prime % 4 == 3\n",
    "        print(\n",
    "            f\"Checking {prime}^{power}:\\n\"\n",
    "            f\"Prime {prime} % 4 = {prime % 4} \"\n",
    "            f\"{'=' if is_3_mod_4 else '≠'} 3\\n\"\n",
    "            f\"Power {power} is {'odd' if is_odd_power else 'even'}\"\n",
    "        )\n",
    "        if is_odd_power and is_3_mod_4:\n",
    "            print(\n",
    "                f\"Therefore {n} cannot be written as a sum of two squares, \"\n",
    "                \"since there is a prime p^k where k is odd and p % 4 = 3.\"\n",
    "            )\n",
    "            return False\n",
    "    print(\n",
    "        f\"Therefore {n} can be written as a sum of two squares, \"\n",
    "        \"since there is no prime p^k where k is odd and p % 4 = 3.\"\n",
    "    )\n",
    "    return True\n",
    "\n",
    "print(\"Q1.1:\", sum_of_two_squares(85), \"\\n\")\n",
    "print(\"Q1.2:\", sum_of_two_squares(49), \"\\n\")\n",
    "print(\"Q1.3:\", sum_of_two_squares(343), \"\\n\")"
   ]
  },
  {
   "cell_type": "code",
   "execution_count": 5,
   "metadata": {
    "id": "HaseuvPA72ZO"
   },
   "outputs": [
    {
     "data": {
      "text/latex": [
       "$\\displaystyle 2^{1} \\cdot 5^{3}$"
      ],
      "text/plain": [
       "2**1*5**3"
      ]
     },
     "execution_count": 5,
     "metadata": {},
     "output_type": "execute_result"
    }
   ],
   "source": [
    "factorint(250, visual=True)"
   ]
  },
  {
   "cell_type": "code",
   "execution_count": 6,
   "metadata": {
    "id": "gcO3-rIxHTLi"
   },
   "outputs": [],
   "source": [
    "from sympy import Eq"
   ]
  },
  {
   "cell_type": "code",
   "execution_count": 7,
   "metadata": {
    "id": "1LqBX9jKHM_r"
   },
   "outputs": [
    {
     "data": {
      "text/latex": [
       "$\\displaystyle \\text{True}$"
      ],
      "text/plain": [
       "True"
      ]
     },
     "execution_count": 7,
     "metadata": {},
     "output_type": "execute_result"
    }
   ],
   "source": [
    "Eq(\n",
    "    250,\n",
    "    factorint(250, visual=True),\n",
    ")"
   ]
  },
  {
   "cell_type": "code",
   "execution_count": 8,
   "metadata": {
    "id": "vTwUBPmNHxQ6"
   },
   "outputs": [
    {
     "data": {
      "text/latex": [
       "$\\displaystyle 250 = 2^{1} \\cdot 5^{3}$"
      ],
      "text/plain": [
       "Eq(250, 2**1*5**3)"
      ]
     },
     "execution_count": 8,
     "metadata": {},
     "output_type": "execute_result"
    }
   ],
   "source": [
    "Eq(\n",
    "    250,\n",
    "    factorint(250, visual=True),\n",
    "    evaluate=False,\n",
    ")"
   ]
  },
  {
   "cell_type": "code",
   "execution_count": 9,
   "metadata": {
    "id": "BRB1IZhnH-lb"
   },
   "outputs": [
    {
     "data": {
      "text/latex": [
       "$\\displaystyle 85 = 17^{1} \\cdot 5^{1}$"
      ],
      "text/plain": [
       "Eq(85, 5**1*17**1)"
      ]
     },
     "metadata": {},
     "output_type": "display_data"
    },
    {
     "data": {
      "text/markdown": [
       "Checking $5^1$:  \n",
       "Prime $5\\ \\%\\ 4 = 1 ≠ 3$  \n",
       "Power $1$ is odd"
      ],
      "text/plain": [
       "<IPython.core.display.Markdown object>"
      ]
     },
     "metadata": {},
     "output_type": "display_data"
    },
    {
     "data": {
      "text/markdown": [
       "Checking $17^1$:  \n",
       "Prime $17\\ \\%\\ 4 = 1 ≠ 3$  \n",
       "Power $1$ is odd"
      ],
      "text/plain": [
       "<IPython.core.display.Markdown object>"
      ]
     },
     "metadata": {},
     "output_type": "display_data"
    },
    {
     "data": {
      "text/markdown": [
       "Therefore $85$ can be written as a sum of two squares, since there is no prime $p^k$ where $k$ is odd and $p\\ \\%\\ 4 = 3$."
      ],
      "text/plain": [
       "<IPython.core.display.Markdown object>"
      ]
     },
     "metadata": {},
     "output_type": "display_data"
    },
    {
     "name": "stdout",
     "output_type": "stream",
     "text": [
      "Q1.1: True \n",
      "\n"
     ]
    },
    {
     "data": {
      "text/latex": [
       "$\\displaystyle 49 = 7^{2}$"
      ],
      "text/plain": [
       "Eq(49, 7**2)"
      ]
     },
     "metadata": {},
     "output_type": "display_data"
    },
    {
     "data": {
      "text/markdown": [
       "Checking $7^2$:  \n",
       "Prime $7\\ \\%\\ 4 = 3 = 3$  \n",
       "Power $2$ is even"
      ],
      "text/plain": [
       "<IPython.core.display.Markdown object>"
      ]
     },
     "metadata": {},
     "output_type": "display_data"
    },
    {
     "data": {
      "text/markdown": [
       "Therefore $49$ can be written as a sum of two squares, since there is no prime $p^k$ where $k$ is odd and $p\\ \\%\\ 4 = 3$."
      ],
      "text/plain": [
       "<IPython.core.display.Markdown object>"
      ]
     },
     "metadata": {},
     "output_type": "display_data"
    },
    {
     "name": "stdout",
     "output_type": "stream",
     "text": [
      "Q1.2: True \n",
      "\n"
     ]
    },
    {
     "data": {
      "text/latex": [
       "$\\displaystyle 343 = 7^{3}$"
      ],
      "text/plain": [
       "Eq(343, 7**3)"
      ]
     },
     "metadata": {},
     "output_type": "display_data"
    },
    {
     "data": {
      "text/markdown": [
       "Checking $7^3$:  \n",
       "Prime $7\\ \\%\\ 4 = 3 = 3$  \n",
       "Power $3$ is odd"
      ],
      "text/plain": [
       "<IPython.core.display.Markdown object>"
      ]
     },
     "metadata": {},
     "output_type": "display_data"
    },
    {
     "data": {
      "text/markdown": [
       "Therefore $343$ cannot be written as a sum of two squares, since there is a prime $p^k$ where $k$ is odd and $p\\ \\%\\ 4 = 3$."
      ],
      "text/plain": [
       "<IPython.core.display.Markdown object>"
      ]
     },
     "metadata": {},
     "output_type": "display_data"
    },
    {
     "name": "stdout",
     "output_type": "stream",
     "text": [
      "Q1.3: False \n",
      "\n"
     ]
    }
   ],
   "source": [
    "from IPython.display import Markdown\n",
    "def sum_of_two_squares(n: int) -> bool:\n",
    "    display(\n",
    "        Eq(\n",
    "            n,\n",
    "            factorint(n, visual=True),\n",
    "            evaluate=False,\n",
    "        )\n",
    "    )\n",
    "    factors = factorint(n)\n",
    "    for prime, power in sorted(factors.items()):\n",
    "        is_odd_power = power % 2 == 1\n",
    "        is_3_mod_4 = prime % 4 == 3\n",
    "        display(Markdown(\n",
    "            f\"Checking ${prime}^{power}$:  \\n\"\n",
    "            f\"Prime ${prime}\\\\ \\\\%\\\\ 4 = {prime % 4} \"\n",
    "            f\"{'=' if is_3_mod_4 else '≠'} 3$  \\n\"\n",
    "            f\"Power ${power}$ is {'odd' if is_odd_power else 'even'}\"\n",
    "        ))\n",
    "        if is_odd_power and is_3_mod_4:\n",
    "            display(Markdown(\n",
    "                f\"Therefore ${n}$ cannot be written as \"\n",
    "                \"a sum of two squares, since there is \"\n",
    "                \"a prime $p^k$ where $k$ is odd and $p\\\\ \\\\%\\\\ 4 = 3$.\"\n",
    "            ))\n",
    "            return False\n",
    "    display(Markdown(\n",
    "        f\"Therefore ${n}$ can be written as \"\n",
    "        \"a sum of two squares, since there is \"\n",
    "        \"no prime $p^k$ where $k$ is odd and $p\\\\ \\\\%\\\\ 4 = 3$.\"\n",
    "    ))\n",
    "    return True\n",
    "\n",
    "print(\"Q1.1:\", sum_of_two_squares(85), \"\\n\")\n",
    "print(\"Q1.2:\", sum_of_two_squares(49), \"\\n\")\n",
    "print(\"Q1.3:\", sum_of_two_squares(343), \"\\n\")"
   ]
  },
  {
   "cell_type": "markdown",
   "metadata": {
    "id": "4WGixZuef_wP"
   },
   "source": [
    "## Question 2: Multivariable Calculus"
   ]
  },
  {
   "cell_type": "markdown",
   "metadata": {
    "id": "NGDrb885Km2p"
   },
   "source": [
    "The following profit function $f(u_1, u_2)$ describes the profit that results from selling $u_1$ units of Product 1 and $u_2$ units of Product 2.\n",
    "\n",
    "$f{\\left(u_{1},u_{2} \\right)} = - \\Delta \\left(u_{1}^{2} + u_{2}^{2}\\right) - c_{0} - u_{1} u_{2} \\left(\\Delta_{12} + \\Delta_{21}\\right) + u_{1} \\left(- c_{1} + p_{1}\\right) + u_{2} \\left(- c_{2} + p_{2}\\right)$\n",
    "\n",
    "$\\pi_1$ and $\\pi_2$ represent, respectively, the market price (per unit) for each product.\n",
    "\n",
    "$c_1$ and $c_2$ represent, respectively, the cost (per unit) for each product.\n",
    "\n",
    "$c_0$ represents the fixed cost, regardless of any production or sales.\n",
    "\n",
    "$\\Delta$ represents the decrease in unit price of each product for any additional unit that is sold of that product.\n",
    "\n",
    "$\\Delta_{12}$ represents the decrease in price of Product 1 for each additional unit that is sold of Product 2 (and vice versa for $\\Delta_{21}$).\n",
    "\n",
    "**Assuming that a unique solution exists and is extremal, find the optimal profit for the following parameters:**\n",
    "\n",
    "$\\pi_1 = \\$400$\n",
    "\n",
    "$\\pi_2 = \\$600$\n",
    "\n",
    "$c_1 = \\$200$\n",
    "\n",
    "$c_2 = \\$300$\n",
    "\n",
    "$c_0 = \\$500,000$\n",
    "\n",
    "$\\Delta = \\$0.02$\n",
    "\n",
    "$\\Delta_{12} = \\$0.001$\n",
    "\n",
    "$\\Delta_{21} = \\$0.002$\n",
    "\n",
    "---"
   ]
  },
  {
   "cell_type": "markdown",
   "metadata": {
    "id": "GoVP4cl0otXd"
   },
   "source": [
    "[What can Wolfram Alpha do?](https://www.wolframalpha.com/input?i=maximum+of+-+0.02+*+%28u%5E2+%2B+v%5E2%29+-+500000+-+u+*+v+*+%280.001+%2B+0.002%29+%2B+u+*+%28-+200+%2B+400%29+%2B+v+*+%28-+300+%2B+600%29)\n",
    "![screenshot of wolfram alpha solution](images/wolfram_alpha.png)\n"
   ]
  },
  {
   "cell_type": "code",
   "execution_count": 10,
   "metadata": {
    "id": "w-xFeY3SA0G8"
   },
   "outputs": [],
   "source": [
    "from sympy import symbols\n",
    "u1, u2 = symbols(\"u_1 u_2\")\n",
    "c0, c1, c2 = symbols(\"c:3\")\n",
    "p1, p2 = symbols(\"p_1 p_2\")\n",
    "D, D12, D21 = symbols(\"Delta Delta_12 Delta_21\")"
   ]
  },
  {
   "cell_type": "code",
   "execution_count": 11,
   "metadata": {
    "id": "8rgfAPxhCGwq"
   },
   "outputs": [],
   "source": [
    "equation = (\n",
    "    -c0\n",
    "    + u1 * (p1 - c1)\n",
    "    + u2 * (p2 - c2)\n",
    "    - u1 * u2 * (D12 + D21)\n",
    "    - D * (u1 ** 2 + u2 ** 2)\n",
    ")"
   ]
  },
  {
   "cell_type": "code",
   "execution_count": 12,
   "metadata": {},
   "outputs": [],
   "source": [
    "from sympy import Function\n",
    "f = Function(\"f\")"
   ]
  },
  {
   "cell_type": "code",
   "execution_count": 13,
   "metadata": {
    "id": "u50BevTp00q9"
   },
   "outputs": [
    {
     "data": {
      "text/latex": [
       "$\\displaystyle f{\\left(u_{1},u_{2} \\right)} = - \\Delta \\left(u_{1}^{2} + u_{2}^{2}\\right) - c_{0} - u_{1} u_{2} \\left(\\Delta_{12} + \\Delta_{21}\\right) + u_{1} \\left(- c_{1} + p_{1}\\right) + u_{2} \\left(- c_{2} + p_{2}\\right)$"
      ],
      "text/plain": [
       "Eq(f(u_1, u_2), -Delta*(u_1**2 + u_2**2) - c0 - u_1*u_2*(Delta_12 + Delta_21) + u_1*(-c1 + p_1) + u_2*(-c2 + p_2))"
      ]
     },
     "execution_count": 13,
     "metadata": {},
     "output_type": "execute_result"
    }
   ],
   "source": [
    "Eq(\n",
    "    f(u1, u2),\n",
    "    equation,\n",
    ")"
   ]
  },
  {
   "cell_type": "code",
   "execution_count": 14,
   "metadata": {
    "id": "U3Kgxz1GzVUc"
   },
   "outputs": [],
   "source": [
    "constants = {\n",
    "    p1: 400,\n",
    "    p2: 600,\n",
    "    c1: 200,\n",
    "    c2: 300,\n",
    "    c0: 500_000,\n",
    "    D: 0.02,\n",
    "    D12: 0.001,\n",
    "    D21: 0.002,\n",
    "}"
   ]
  },
  {
   "cell_type": "markdown",
   "metadata": {
    "id": "4OE3bZb1-TL7"
   },
   "source": [
    "**Reminder:**\n",
    "\n",
    "The maximum value of $f$ is where $\\nabla f = \\bf 0$\n",
    "\n",
    "Where $\\nabla f(x,y) = \\left[\\begin{matrix}\\frac{\\partial}{\\partial x} f(x,y)\\\\\\frac{\\partial}{\\partial y} f(x,y)\\end{matrix}\\right]$"
   ]
  },
  {
   "cell_type": "markdown",
   "metadata": {
    "id": "5S67io3yIZd2"
   },
   "source": [
    "Thus, to find the optimal profit, we must find the maximum, by finding the values $u^\\ast_1$, $u^\\ast_2$ for which $\\nabla f(u^\\ast_1, u^\\ast_2) = \\bf 0$."
   ]
  },
  {
   "cell_type": "code",
   "execution_count": 15,
   "metadata": {
    "id": "314P_oGJBDNa"
   },
   "outputs": [],
   "source": [
    "from sympy import Matrix"
   ]
  },
  {
   "cell_type": "code",
   "execution_count": 16,
   "metadata": {
    "id": "fbVEeku7I97b"
   },
   "outputs": [
    {
     "data": {
      "text/latex": [
       "$\\displaystyle \\left[\\begin{matrix}\\frac{\\partial}{\\partial u_{1}} f{\\left(u_{1},u_{2} \\right)}\\\\\\frac{\\partial}{\\partial u_{2}} f{\\left(u_{1},u_{2} \\right)}\\end{matrix}\\right] = \\left[\\begin{matrix}\\frac{\\partial}{\\partial u_{1}} \\left(- \\Delta \\left(u_{1}^{2} + u_{2}^{2}\\right) - c_{0} - u_{1} u_{2} \\left(\\Delta_{12} + \\Delta_{21}\\right) + u_{1} \\left(- c_{1} + p_{1}\\right) + u_{2} \\left(- c_{2} + p_{2}\\right)\\right)\\\\\\frac{\\partial}{\\partial u_{2}} \\left(- \\Delta \\left(u_{1}^{2} + u_{2}^{2}\\right) - c_{0} - u_{1} u_{2} \\left(\\Delta_{12} + \\Delta_{21}\\right) + u_{1} \\left(- c_{1} + p_{1}\\right) + u_{2} \\left(- c_{2} + p_{2}\\right)\\right)\\end{matrix}\\right]$"
      ],
      "text/plain": [
       "Eq(Matrix([\n",
       "[Derivative(f(u_1, u_2), u_1)],\n",
       "[Derivative(f(u_1, u_2), u_2)]]), Matrix([\n",
       "[Derivative(-Delta*(u_1**2 + u_2**2) - c0 - u_1*u_2*(Delta_12 + Delta_21) + u_1*(-c1 + p_1) + u_2*(-c2 + p_2), u_1)],\n",
       "[Derivative(-Delta*(u_1**2 + u_2**2) - c0 - u_1*u_2*(Delta_12 + Delta_21) + u_1*(-c1 + p_1) + u_2*(-c2 + p_2), u_2)]]))"
      ]
     },
     "execution_count": 16,
     "metadata": {},
     "output_type": "execute_result"
    }
   ],
   "source": [
    "f_grad = Matrix([\n",
    "    f(u1, u2).diff(u1),\n",
    "    f(u1, u2).diff(u2),\n",
    "])\n",
    "\n",
    "Eq(\n",
    "    f_grad,\n",
    "    Matrix([\n",
    "        equation.diff(u1, evaluate=False),\n",
    "        equation.diff(u2, evaluate=False),\n",
    "    ])\n",
    ")"
   ]
  },
  {
   "cell_type": "code",
   "execution_count": 17,
   "metadata": {
    "id": "6rR3deXWNIkz"
   },
   "outputs": [
    {
     "data": {
      "text/latex": [
       "$\\displaystyle \\left[\\begin{matrix}\\frac{\\partial}{\\partial u_{1}} f{\\left(u_{1},u_{2} \\right)}\\\\\\frac{\\partial}{\\partial u_{2}} f{\\left(u_{1},u_{2} \\right)}\\end{matrix}\\right] = \\left[\\begin{matrix}- 2 \\Delta u_{1} - c_{1} + p_{1} - u_{2} \\left(\\Delta_{12} + \\Delta_{21}\\right)\\\\- 2 \\Delta u_{2} - c_{2} + p_{2} - u_{1} \\left(\\Delta_{12} + \\Delta_{21}\\right)\\end{matrix}\\right]$"
      ],
      "text/plain": [
       "Eq(Matrix([\n",
       "[Derivative(f(u_1, u_2), u_1)],\n",
       "[Derivative(f(u_1, u_2), u_2)]]), Matrix([\n",
       "[-2*Delta*u_1 - c1 + p_1 - u_2*(Delta_12 + Delta_21)],\n",
       "[-2*Delta*u_2 - c2 + p_2 - u_1*(Delta_12 + Delta_21)]]))"
      ]
     },
     "execution_count": 17,
     "metadata": {},
     "output_type": "execute_result"
    }
   ],
   "source": [
    "f_diff_wrt_u1 = equation.diff(u1)\n",
    "f_diff_wrt_u2 = equation.diff(u2)\n",
    "\n",
    "f_diff = Matrix([\n",
    "    f_diff_wrt_u1,\n",
    "    f_diff_wrt_u2,\n",
    "])\n",
    "Eq(\n",
    "    f_grad,\n",
    "    f_diff,\n",
    ")"
   ]
  },
  {
   "cell_type": "code",
   "execution_count": 18,
   "metadata": {
    "id": "bN8ObG7OXGZu"
   },
   "outputs": [
    {
     "data": {
      "text/latex": [
       "$\\displaystyle \\left[\\begin{matrix}0\\\\0\\end{matrix}\\right] = \\left[\\begin{matrix}- 2 \\Delta u_{1} - c_{1} + p_{1} - u_{2} \\left(\\Delta_{12} + \\Delta_{21}\\right)\\\\- 2 \\Delta u_{2} - c_{2} + p_{2} - u_{1} \\left(\\Delta_{12} + \\Delta_{21}\\right)\\end{matrix}\\right]$"
      ],
      "text/plain": [
       "Eq(Matrix([\n",
       "[0],\n",
       "[0]]), Matrix([\n",
       "[-2*Delta*u_1 - c1 + p_1 - u_2*(Delta_12 + Delta_21)],\n",
       "[-2*Delta*u_2 - c2 + p_2 - u_1*(Delta_12 + Delta_21)]]))"
      ]
     },
     "execution_count": 18,
     "metadata": {},
     "output_type": "execute_result"
    }
   ],
   "source": [
    "Eq(\n",
    "    Matrix([\n",
    "        0,\n",
    "        0\n",
    "    ]),\n",
    "    f_diff,\n",
    ")"
   ]
  },
  {
   "cell_type": "markdown",
   "metadata": {
    "id": "x1ppJ7fYDRmP"
   },
   "source": [
    "Solving to get in terms of $u_2$"
   ]
  },
  {
   "cell_type": "code",
   "execution_count": 19,
   "metadata": {},
   "outputs": [],
   "source": [
    "from sympy import solve"
   ]
  },
  {
   "cell_type": "code",
   "execution_count": 20,
   "metadata": {
    "id": "DS7xw0jt43fl"
   },
   "outputs": [
    {
     "data": {
      "text/latex": [
       "$\\displaystyle u_{1} = \\frac{- \\Delta_{12} u_{2} - \\Delta_{21} u_{2} - c_{1} + p_{1}}{2 \\Delta}$"
      ],
      "text/plain": [
       "Eq(u_1, (-Delta_12*u_2 - Delta_21*u_2 - c1 + p_1)/(2*Delta))"
      ]
     },
     "execution_count": 20,
     "metadata": {},
     "output_type": "execute_result"
    }
   ],
   "source": [
    "f_diff_wrt_u1_solved_for_u1 = solve(\n",
    "    f_diff_wrt_u1,\n",
    "    u1,\n",
    ")[0]\n",
    "\n",
    "Eq(\n",
    "    u1,\n",
    "    f_diff_wrt_u1_solved_for_u1\n",
    ")"
   ]
  },
  {
   "cell_type": "markdown",
   "metadata": {
    "id": "MS1bu_w99YnK"
   },
   "source": [
    "Substituting $u_1$ into $\\frac{\\partial}{\\partial u_2} f(u_1,u_2)$"
   ]
  },
  {
   "cell_type": "code",
   "execution_count": 21,
   "metadata": {
    "id": "LSjNm9Q5-CzT"
   },
   "outputs": [
    {
     "data": {
      "text/latex": [
       "$\\displaystyle 0 = - 2 \\Delta u_{2} - c_{2} + p_{2} - \\frac{\\left(\\Delta_{12} + \\Delta_{21}\\right) \\left(- \\Delta_{12} u_{2} - \\Delta_{21} u_{2} - c_{1} + p_{1}\\right)}{2 \\Delta}$"
      ],
      "text/plain": [
       "Eq(0, -2*Delta*u_2 - c2 + p_2 - (Delta_12 + Delta_21)*(-Delta_12*u_2 - Delta_21*u_2 - c1 + p_1)/(2*Delta))"
      ]
     },
     "execution_count": 21,
     "metadata": {},
     "output_type": "execute_result"
    }
   ],
   "source": [
    "f_diff_wrt_u2_removed_u1 = f_diff_wrt_u2.subs(\n",
    "    u1,\n",
    "    f_diff_wrt_u1_solved_for_u1\n",
    ")\n",
    "Eq(\n",
    "    0,\n",
    "    f_diff_wrt_u2_removed_u1,\n",
    ")"
   ]
  },
  {
   "cell_type": "markdown",
   "metadata": {
    "id": "shmHFK-8GgiX"
   },
   "source": [
    "Solving for $u^\\ast_2$"
   ]
  },
  {
   "cell_type": "code",
   "execution_count": 22,
   "metadata": {
    "id": "PKs8Tl-pGflj"
   },
   "outputs": [
    {
     "data": {
      "text/latex": [
       "$\\displaystyle u^{*}_{2} = \\frac{2 \\Delta c_{2} - 2 \\Delta p_{2} - \\Delta_{12} c_{1} + \\Delta_{12} p_{1} - \\Delta_{21} c_{1} + \\Delta_{21} p_{1}}{- 4 \\Delta^{2} + \\Delta_{12}^{2} + 2 \\Delta_{12} \\Delta_{21} + \\Delta_{21}^{2}}$"
      ],
      "text/plain": [
       "Eq(u^*_2, (2*Delta*c2 - 2*Delta*p_2 - Delta_12*c1 + Delta_12*p_1 - Delta_21*c1 + Delta_21*p_1)/(-4*Delta**2 + Delta_12**2 + 2*Delta_12*Delta_21 + Delta_21**2))"
      ]
     },
     "execution_count": 22,
     "metadata": {},
     "output_type": "execute_result"
    }
   ],
   "source": [
    "u2s = symbols(\"u^*_2\")\n",
    "f_diff_wrt_u2_solved_for_u2 = solve(\n",
    "    f_diff_wrt_u2_removed_u1,\n",
    "    u2\n",
    ")[0]\n",
    "\n",
    "Eq(\n",
    "    u2s,\n",
    "    f_diff_wrt_u2_solved_for_u2\n",
    ")"
   ]
  },
  {
   "cell_type": "markdown",
   "metadata": {
    "id": "ntkrAuW_Ep8V"
   },
   "source": [
    "Substituting the constants"
   ]
  },
  {
   "cell_type": "code",
   "execution_count": 23,
   "metadata": {
    "id": "xrLrrO13FNZ7"
   },
   "outputs": [
    {
     "data": {
      "text/latex": [
       "$\\displaystyle u^{*}_{2} = 7165.30483972345$"
      ],
      "text/plain": [
       "Eq(u^*_2, 7165.30483972345)"
      ]
     },
     "execution_count": 23,
     "metadata": {},
     "output_type": "execute_result"
    }
   ],
   "source": [
    "u2s_value = f_diff_wrt_u2_solved_for_u2.subs(constants)\n",
    "Eq(\n",
    "    u2s,\n",
    "    u2s_value,\n",
    ")"
   ]
  },
  {
   "cell_type": "markdown",
   "metadata": {
    "id": "eLZtuvFgE-K8"
   },
   "source": [
    "We can now similarly solve for $u^*_1$ but by using a function!"
   ]
  },
  {
   "cell_type": "code",
   "execution_count": 24,
   "metadata": {
    "id": "T3obsVKFE9gK"
   },
   "outputs": [
    {
     "data": {
      "text/latex": [
       "$\\displaystyle \\left[\\begin{matrix}\\frac{\\partial}{\\partial u_{1}} f{\\left(u_{1},u_{2} \\right)}\\\\\\frac{\\partial}{\\partial u_{2}} f{\\left(u_{1},u_{2} \\right)}\\end{matrix}\\right] = \\left[\\begin{matrix}\\frac{\\partial}{\\partial u_{1}} \\left(- \\Delta \\left(u_{1}^{2} + u_{2}^{2}\\right) - c_{0} - u_{1} u_{2} \\left(\\Delta_{12} + \\Delta_{21}\\right) + u_{1} \\left(- c_{1} + p_{1}\\right) + u_{2} \\left(- c_{2} + p_{2}\\right)\\right)\\\\\\frac{\\partial}{\\partial u_{2}} \\left(- \\Delta \\left(u_{1}^{2} + u_{2}^{2}\\right) - c_{0} - u_{1} u_{2} \\left(\\Delta_{12} + \\Delta_{21}\\right) + u_{1} \\left(- c_{1} + p_{1}\\right) + u_{2} \\left(- c_{2} + p_{2}\\right)\\right)\\end{matrix}\\right]$"
      ],
      "text/plain": [
       "Eq(Matrix([\n",
       "[Derivative(f(u_1, u_2), u_1)],\n",
       "[Derivative(f(u_1, u_2), u_2)]]), Matrix([\n",
       "[Derivative(-Delta*(u_1**2 + u_2**2) - c0 - u_1*u_2*(Delta_12 + Delta_21) + u_1*(-c1 + p_1) + u_2*(-c2 + p_2), u_1)],\n",
       "[Derivative(-Delta*(u_1**2 + u_2**2) - c0 - u_1*u_2*(Delta_12 + Delta_21) + u_1*(-c1 + p_1) + u_2*(-c2 + p_2), u_2)]]))"
      ]
     },
     "metadata": {},
     "output_type": "display_data"
    },
    {
     "data": {
      "text/latex": [
       "$\\displaystyle \\left[\\begin{matrix}\\frac{\\partial}{\\partial u_{1}} f{\\left(u_{1},u_{2} \\right)}\\\\\\frac{\\partial}{\\partial u_{2}} f{\\left(u_{1},u_{2} \\right)}\\end{matrix}\\right] = \\left[\\begin{matrix}- 2 \\Delta u_{1} - c_{1} + p_{1} - u_{2} \\left(\\Delta_{12} + \\Delta_{21}\\right)\\\\- 2 \\Delta u_{2} - c_{2} + p_{2} - u_{1} \\left(\\Delta_{12} + \\Delta_{21}\\right)\\end{matrix}\\right]$"
      ],
      "text/plain": [
       "Eq(Matrix([\n",
       "[Derivative(f(u_1, u_2), u_1)],\n",
       "[Derivative(f(u_1, u_2), u_2)]]), Matrix([\n",
       "[-2*Delta*u_1 - c1 + p_1 - u_2*(Delta_12 + Delta_21)],\n",
       "[-2*Delta*u_2 - c2 + p_2 - u_1*(Delta_12 + Delta_21)]]))"
      ]
     },
     "metadata": {},
     "output_type": "display_data"
    },
    {
     "data": {
      "text/latex": [
       "$\\displaystyle \\left[\\begin{matrix}0\\\\0\\end{matrix}\\right] = \\left[\\begin{matrix}- 2 \\Delta u_{1} - c_{1} + p_{1} - u_{2} \\left(\\Delta_{12} + \\Delta_{21}\\right)\\\\- 2 \\Delta u_{2} - c_{2} + p_{2} - u_{1} \\left(\\Delta_{12} + \\Delta_{21}\\right)\\end{matrix}\\right]$"
      ],
      "text/plain": [
       "Eq(Matrix([\n",
       "[0],\n",
       "[0]]), Matrix([\n",
       "[-2*Delta*u_1 - c1 + p_1 - u_2*(Delta_12 + Delta_21)],\n",
       "[-2*Delta*u_2 - c2 + p_2 - u_1*(Delta_12 + Delta_21)]]))"
      ]
     },
     "metadata": {},
     "output_type": "display_data"
    },
    {
     "data": {
      "text/latex": [
       "$\\displaystyle u_{1} = \\frac{- \\Delta_{12} u_{2} - \\Delta_{21} u_{2} - c_{1} + p_{1}}{2 \\Delta}$"
      ],
      "text/plain": [
       "Eq(u_1, (-Delta_12*u_2 - Delta_21*u_2 - c1 + p_1)/(2*Delta))"
      ]
     },
     "metadata": {},
     "output_type": "display_data"
    },
    {
     "data": {
      "text/latex": [
       "$\\displaystyle 0 = - 2 \\Delta u_{2} - c_{2} + p_{2} - \\frac{\\left(\\Delta_{12} + \\Delta_{21}\\right) \\left(- \\Delta_{12} u_{2} - \\Delta_{21} u_{2} - c_{1} + p_{1}\\right)}{2 \\Delta}$"
      ],
      "text/plain": [
       "Eq(0, -2*Delta*u_2 - c2 + p_2 - (Delta_12 + Delta_21)*(-Delta_12*u_2 - Delta_21*u_2 - c1 + p_1)/(2*Delta))"
      ]
     },
     "metadata": {},
     "output_type": "display_data"
    },
    {
     "data": {
      "text/latex": [
       "$\\displaystyle u^{*}_{2} = \\frac{2 \\Delta c_{2} - 2 \\Delta p_{2} - \\Delta_{12} c_{1} + \\Delta_{12} p_{1} - \\Delta_{21} c_{1} + \\Delta_{21} p_{1}}{- 4 \\Delta^{2} + \\Delta_{12}^{2} + 2 \\Delta_{12} \\Delta_{21} + \\Delta_{21}^{2}}$"
      ],
      "text/plain": [
       "Eq(u^*_2, (2*Delta*c2 - 2*Delta*p_2 - Delta_12*c1 + Delta_12*p_1 - Delta_21*c1 + Delta_21*p_1)/(-4*Delta**2 + Delta_12**2 + 2*Delta_12*Delta_21 + Delta_21**2))"
      ]
     },
     "metadata": {},
     "output_type": "display_data"
    },
    {
     "data": {
      "text/latex": [
       "$\\displaystyle u^{*}_{2} = 7165.30483972345$"
      ],
      "text/plain": [
       "Eq(u^*_2, 7165.30483972345)"
      ]
     },
     "metadata": {},
     "output_type": "display_data"
    },
    {
     "data": {
      "text/latex": [
       "$\\displaystyle u_{2} = \\frac{- \\Delta_{12} u_{1} - \\Delta_{21} u_{1} - c_{2} + p_{2}}{2 \\Delta}$"
      ],
      "text/plain": [
       "Eq(u_2, (-Delta_12*u_1 - Delta_21*u_1 - c2 + p_2)/(2*Delta))"
      ]
     },
     "metadata": {},
     "output_type": "display_data"
    },
    {
     "data": {
      "text/latex": [
       "$\\displaystyle 0 = - 2 \\Delta u_{1} - c_{1} + p_{1} - \\frac{\\left(\\Delta_{12} + \\Delta_{21}\\right) \\left(- \\Delta_{12} u_{1} - \\Delta_{21} u_{1} - c_{2} + p_{2}\\right)}{2 \\Delta}$"
      ],
      "text/plain": [
       "Eq(0, -2*Delta*u_1 - c1 + p_1 - (Delta_12 + Delta_21)*(-Delta_12*u_1 - Delta_21*u_1 - c2 + p_2)/(2*Delta))"
      ]
     },
     "metadata": {},
     "output_type": "display_data"
    },
    {
     "data": {
      "text/latex": [
       "$\\displaystyle u^{*}_{1} = \\frac{2 \\Delta c_{1} - 2 \\Delta p_{1} - \\Delta_{12} c_{2} + \\Delta_{12} p_{2} - \\Delta_{21} c_{2} + \\Delta_{21} p_{2}}{- 4 \\Delta^{2} + \\Delta_{12}^{2} + 2 \\Delta_{12} \\Delta_{21} + \\Delta_{21}^{2}}$"
      ],
      "text/plain": [
       "Eq(u^*_1, (2*Delta*c1 - 2*Delta*p_1 - Delta_12*c2 + Delta_12*p_2 - Delta_21*c2 + Delta_21*p_2)/(-4*Delta**2 + Delta_12**2 + 2*Delta_12*Delta_21 + Delta_21**2))"
      ]
     },
     "metadata": {},
     "output_type": "display_data"
    },
    {
     "data": {
      "text/latex": [
       "$\\displaystyle u^{*}_{1} = 4462.60213702074$"
      ],
      "text/plain": [
       "Eq(u^*_1, 4462.60213702074)"
      ]
     },
     "metadata": {},
     "output_type": "display_data"
    },
    {
     "data": {
      "text/latex": [
       "$\\displaystyle \\left[\\begin{matrix}u^{*}_{1}\\\\u^{*}_{2}\\end{matrix}\\right] = \\left[\\begin{matrix}4462.60213702074\\\\7165.30483972345\\end{matrix}\\right]$"
      ],
      "text/plain": [
       "Eq(Matrix([\n",
       "[u^*_1],\n",
       "[u^*_2]]), Matrix([\n",
       "[4462.60213702074],\n",
       "[7165.30483972345]]))"
      ]
     },
     "metadata": {},
     "output_type": "display_data"
    }
   ],
   "source": [
    "from sympy import Expr\n",
    "from sympy import Symbol\n",
    "def calculate_maximum(\n",
    "    equation: Expr,\n",
    "    function: Function,\n",
    "    parameter1: Symbol,\n",
    "    parameter2: Symbol,\n",
    "    output_symbol1: Symbol,\n",
    "    output_symbol2: Symbol,\n",
    "    constants: dict[Symbol, float | int],\n",
    ") -> dict[Symbol, float | int]:\n",
    "    f = function\n",
    "    v1 = parameter1\n",
    "    v2 = parameter2\n",
    "    v1s = output_symbol1\n",
    "    v2s = output_symbol2\n",
    "\n",
    "    f_grad = Matrix([\n",
    "        f(v1, v2).diff(v1),\n",
    "        f(v1, v2).diff(v2),\n",
    "    ])\n",
    "\n",
    "    display(\n",
    "        Eq(\n",
    "            f_grad,\n",
    "            Matrix([\n",
    "                equation.diff(v1, evaluate=False),\n",
    "                equation.diff(v2, evaluate=False),\n",
    "            ]),\n",
    "            evaluate=False,\n",
    "        )\n",
    "    )\n",
    "\n",
    "    f_diff_wrt = {\n",
    "        v1: equation.diff(v1),\n",
    "        v2: equation.diff(v2),\n",
    "    }\n",
    "    f_diff = Matrix(\n",
    "        list(f_diff_wrt.values())\n",
    "    )\n",
    "    display(\n",
    "        Eq(\n",
    "            f_grad,\n",
    "            f_diff,\n",
    "        ),\n",
    "        Eq(\n",
    "            Matrix([\n",
    "                0,\n",
    "                0,\n",
    "            ]),\n",
    "            f_diff,\n",
    "        )\n",
    "    )\n",
    "\n",
    "    values = {}\n",
    "    for v, u, output_symbol in (\n",
    "        (v1, v2, output_symbol2), \n",
    "        (v2, v1, output_symbol1),\n",
    "    ):\n",
    "        f_diff_wrt_v_solved_for_v = solve(\n",
    "            f_diff_wrt[v],\n",
    "            v,\n",
    "        )[0]\n",
    "\n",
    "        display(\n",
    "            Eq(\n",
    "                v,\n",
    "                f_diff_wrt_v_solved_for_v,\n",
    "            )\n",
    "        )\n",
    "\n",
    "\n",
    "        f_diff_wrt_u_removed_v = f_diff_wrt[u].subs(\n",
    "            v,\n",
    "            f_diff_wrt_v_solved_for_v,\n",
    "        )\n",
    "        display(\n",
    "            Eq(\n",
    "                0,\n",
    "                f_diff_wrt_u_removed_v,\n",
    "            )\n",
    "        )\n",
    "\n",
    "        f_diff_wrt_u_solved_for_u = solve(\n",
    "            f_diff_wrt_u_removed_v,\n",
    "            u\n",
    "        )[0]\n",
    "\n",
    "        display(\n",
    "            Eq(\n",
    "                output_symbol,\n",
    "                f_diff_wrt_u_solved_for_u,\n",
    "            )\n",
    "        )\n",
    "\n",
    "        value = f_diff_wrt_u_solved_for_u.subs(constants)\n",
    "        display(\n",
    "            Eq(\n",
    "                output_symbol,\n",
    "                value,\n",
    "            )\n",
    "        )\n",
    "        values[u] = value\n",
    "\n",
    "    return values\n",
    "\n",
    "u1s = symbols(\"u^*_1\")\n",
    "u2s = symbols(\"u^*_2\")\n",
    "\n",
    "values = calculate_maximum(\n",
    "    equation=equation,\n",
    "    function=f,\n",
    "    parameter1=u1,\n",
    "    parameter2=u2,\n",
    "    output_symbol1=u1s,\n",
    "    output_symbol2=u2s,\n",
    "    constants=constants,\n",
    ")\n",
    "\n",
    "display(\n",
    "    Eq(\n",
    "        Matrix([\n",
    "            u1s,\n",
    "            u2s,\n",
    "        ]),\n",
    "        Matrix([\n",
    "            values[u1],\n",
    "            values[u2],\n",
    "        ])\n",
    "    )\n",
    ")"
   ]
  },
  {
   "cell_type": "markdown",
   "metadata": {
    "id": "-81JKzIiSdYM"
   },
   "source": [
    "Substituting to get the profit at the maximum point"
   ]
  },
  {
   "cell_type": "code",
   "execution_count": 25,
   "metadata": {
    "id": "-12dTtyVSUBG"
   },
   "outputs": [
    {
     "data": {
      "text/latex": [
       "$\\displaystyle 1021055.93966059$"
      ],
      "text/plain": [
       "1021055.93966059"
      ]
     },
     "execution_count": 25,
     "metadata": {},
     "output_type": "execute_result"
    }
   ],
   "source": [
    "all_values = {\n",
    "    u1: values[u1],\n",
    "    u2: values[u2],\n",
    "    **constants,\n",
    "}\n",
    "equation.subs(all_values)"
   ]
  },
  {
   "cell_type": "markdown",
   "metadata": {
    "id": "Vt6JEuokgGzz"
   },
   "source": [
    "## Appendix"
   ]
  },
  {
   "cell_type": "markdown",
   "metadata": {
    "id": "v2mJ95pAUx3R"
   },
   "source": [
    "* [sympy.org](https://www.sympy.org)\n",
    "![screenshot of sympy sum of squares docs](images/sympy.png)\n",
    "* [Contribute @ github.com/sympy/sympy](https://github.com/sympy/sympy)\n",
    "![screenshot of sympy github readme](images/github.png)\n",
    "* [jupyter.org](https://jupyter.org/)\n",
    "* [Submitting](https://github.com/ekohilas/python-ate-my-homework/python_ate_my_homework_pycon_apac_2023.html)\n",
    "* [Links @ github.com/ekohilas/python-ate-my-homework](https://github.com/ekohilas/python-ate-my-homework)  \n",
    "![qr code to repository](images/qrcode.svg)  \n",
    "* Thanks to my partner, friends, and you for watching! ❤️\n",
    "* Feedback!\n",
    "* Questions?"
   ]
  }
 ],
 "metadata": {
  "colab": {
   "provenance": []
  },
  "kernelspec": {
   "display_name": "Python 3 (ipykernel)",
   "language": "python",
   "name": "python3"
  },
  "language_info": {
   "codemirror_mode": {
    "name": "ipython",
    "version": 3
   },
   "file_extension": ".py",
   "mimetype": "text/x-python",
   "name": "python",
   "nbconvert_exporter": "python",
   "pygments_lexer": "ipython3",
   "version": "3.11.2"
  }
 },
 "nbformat": 4,
 "nbformat_minor": 4
}
